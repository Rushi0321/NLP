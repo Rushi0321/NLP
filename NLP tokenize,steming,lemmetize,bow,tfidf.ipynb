{
 "cells": [
  {
   "cell_type": "code",
   "execution_count": 1,
   "id": "0b6ff04f",
   "metadata": {},
   "outputs": [],
   "source": [
    "import nltk"
   ]
  },
  {
   "cell_type": "code",
   "execution_count": 2,
   "id": "3b159c68",
   "metadata": {},
   "outputs": [
    {
     "name": "stdout",
     "output_type": "stream",
     "text": [
      "showing info https://raw.githubusercontent.com/nltk/nltk_data/gh-pages/index.xml\n"
     ]
    },
    {
     "data": {
      "text/plain": [
       "True"
      ]
     },
     "execution_count": 2,
     "metadata": {},
     "output_type": "execute_result"
    }
   ],
   "source": [
    "nltk.download()"
   ]
  },
  {
   "cell_type": "code",
   "execution_count": 5,
   "id": "38d42804",
   "metadata": {},
   "outputs": [],
   "source": [
    "para=\"\"\"I have three visions for India. In 3000 years of our history, people from all over the world have come and invaded us, captured our lands, conquered our minds. From Alexander onwards, The Greeks, the Turks, the Moguls, the Portuguese, the British, the French, the Dutch, all of them came and looted us, took over what was ours. Yet we have not done this to any other nation. We have not conquered anyone. We have not grabbed their land, their culture, their history and Tried to enforce our way of life on them. Why? Because we respect the freedom of others.\n",
    "\n",
    "That is why my first vision is that of FREEDOM. I believe that India got its first vision of this in 1857, when we started the war of Independence. It is this freedom that we must protect and nurture and build on. If we are not free, no one will respect us.\n",
    "\n",
    "My second vision for India’s DEVELOPMENT, For fifty years we have been A developing nation. It is time we see ourselves as a developed nation. We are among top 5 nations of the world in terms of GDP. We have 10 percent growth rate in most areas. Our poverty levels are falling. Our achievements are being globally recognized today. Yet we lack the self-confidence to see ourselves as a developed nation, self-reliant and self-assured. Isn’t this incorrect?\n",
    "\n",
    "I have a THIRD vision. India must stand up to the world. Because I believe that, unless India stands up to the world, no one will respect us. Only strength respects strength. We must be strong not only as a military power but also as an economic power. Both must go hand-in-hand. My good fortune was to have worked with three great minds. Dr. Vikram Sarabhai of the Dept. of space, Professor Satish Dhawan, who succeeded him and Dr.Brahm Prakash, father of nuclear material. I was lucky to have worked with all three of them closely and consider this the great opportunity of my life.\"\"\""
   ]
  },
  {
   "cell_type": "code",
   "execution_count": 6,
   "id": "f0301935",
   "metadata": {},
   "outputs": [],
   "source": [
    "#In nlp we work with word data alot like lang translation seqtoseq data alot"
   ]
  },
  {
   "cell_type": "code",
   "execution_count": 7,
   "id": "0f8d39a9",
   "metadata": {},
   "outputs": [],
   "source": [
    "#so there are few steps we need to do before like breaking of sentence or paragraph into sentence and then thiose sentenx=ce into words..."
   ]
  },
  {
   "cell_type": "code",
   "execution_count": 8,
   "id": "0f7d0c3d",
   "metadata": {},
   "outputs": [],
   "source": [
    "#thats is called tokenization"
   ]
  },
  {
   "cell_type": "code",
   "execution_count": 9,
   "id": "2e57bcdd",
   "metadata": {},
   "outputs": [],
   "source": [
    "#we do tokenization to clean our word data like we do to remove unneccessary words and special characters from data..."
   ]
  },
  {
   "cell_type": "code",
   "execution_count": 10,
   "id": "c5125025",
   "metadata": {},
   "outputs": [],
   "source": [
    "#we can do that by importing nltk.sent_tokenize() or to word by nltk.word_tokenize()"
   ]
  },
  {
   "cell_type": "code",
   "execution_count": 11,
   "id": "f74c365a",
   "metadata": {},
   "outputs": [],
   "source": [
    "sent=nltk.sent_tokenize(para)"
   ]
  },
  {
   "cell_type": "code",
   "execution_count": 12,
   "id": "1226576d",
   "metadata": {},
   "outputs": [
    {
     "data": {
      "text/plain": [
       "['I have three visions for India.',\n",
       " 'In 3000 years of our history, people from all over the world have come and invaded us, captured our lands, conquered our minds.',\n",
       " 'From Alexander onwards, The Greeks, the Turks, the Moguls, the Portuguese, the British, the French, the Dutch, all of them came and looted us, took over what was ours.',\n",
       " 'Yet we have not done this to any other nation.',\n",
       " 'We have not conquered anyone.',\n",
       " 'We have not grabbed their land, their culture, their history and Tried to enforce our way of life on them.',\n",
       " 'Why?',\n",
       " 'Because we respect the freedom of others.',\n",
       " 'That is why my first vision is that of FREEDOM.',\n",
       " 'I believe that India got its first vision of this in 1857, when we started the war of Independence.',\n",
       " 'It is this freedom that we must protect and nurture and build on.',\n",
       " 'If we are not free, no one will respect us.',\n",
       " 'My second vision for India’s DEVELOPMENT, For fifty years we have been A developing nation.',\n",
       " 'It is time we see ourselves as a developed nation.',\n",
       " 'We are among top 5 nations of the world in terms of GDP.',\n",
       " 'We have 10 percent growth rate in most areas.',\n",
       " 'Our poverty levels are falling.',\n",
       " 'Our achievements are being globally recognized today.',\n",
       " 'Yet we lack the self-confidence to see ourselves as a developed nation, self-reliant and self-assured.',\n",
       " 'Isn’t this incorrect?',\n",
       " 'I have a THIRD vision.',\n",
       " 'India must stand up to the world.',\n",
       " 'Because I believe that, unless India stands up to the world, no one will respect us.',\n",
       " 'Only strength respects strength.',\n",
       " 'We must be strong not only as a military power but also as an economic power.',\n",
       " 'Both must go hand-in-hand.',\n",
       " 'My good fortune was to have worked with three great minds.',\n",
       " 'Dr. Vikram Sarabhai of the Dept.',\n",
       " 'of space, Professor Satish Dhawan, who succeeded him and Dr.Brahm Prakash, father of nuclear material.',\n",
       " 'I was lucky to have worked with all three of them closely and consider this the great opportunity of my life.']"
      ]
     },
     "execution_count": 12,
     "metadata": {},
     "output_type": "execute_result"
    }
   ],
   "source": [
    "sent"
   ]
  },
  {
   "cell_type": "code",
   "execution_count": 13,
   "id": "1f1a64a2",
   "metadata": {},
   "outputs": [],
   "source": [
    "#now to word..."
   ]
  },
  {
   "cell_type": "code",
   "execution_count": 16,
   "id": "399cdb4d",
   "metadata": {},
   "outputs": [],
   "source": [
    "words=nltk.word_tokenize(para)"
   ]
  },
  {
   "cell_type": "code",
   "execution_count": 17,
   "id": "e3613836",
   "metadata": {},
   "outputs": [
    {
     "data": {
      "text/plain": [
       "['I',\n",
       " 'have',\n",
       " 'three',\n",
       " 'visions',\n",
       " 'for',\n",
       " 'India',\n",
       " '.',\n",
       " 'In',\n",
       " '3000',\n",
       " 'years',\n",
       " 'of',\n",
       " 'our',\n",
       " 'history',\n",
       " ',',\n",
       " 'people',\n",
       " 'from',\n",
       " 'all',\n",
       " 'over',\n",
       " 'the',\n",
       " 'world',\n",
       " 'have',\n",
       " 'come',\n",
       " 'and',\n",
       " 'invaded',\n",
       " 'us',\n",
       " ',',\n",
       " 'captured',\n",
       " 'our',\n",
       " 'lands',\n",
       " ',',\n",
       " 'conquered',\n",
       " 'our',\n",
       " 'minds',\n",
       " '.',\n",
       " 'From',\n",
       " 'Alexander',\n",
       " 'onwards',\n",
       " ',',\n",
       " 'The',\n",
       " 'Greeks',\n",
       " ',',\n",
       " 'the',\n",
       " 'Turks',\n",
       " ',',\n",
       " 'the',\n",
       " 'Moguls',\n",
       " ',',\n",
       " 'the',\n",
       " 'Portuguese',\n",
       " ',',\n",
       " 'the',\n",
       " 'British',\n",
       " ',',\n",
       " 'the',\n",
       " 'French',\n",
       " ',',\n",
       " 'the',\n",
       " 'Dutch',\n",
       " ',',\n",
       " 'all',\n",
       " 'of',\n",
       " 'them',\n",
       " 'came',\n",
       " 'and',\n",
       " 'looted',\n",
       " 'us',\n",
       " ',',\n",
       " 'took',\n",
       " 'over',\n",
       " 'what',\n",
       " 'was',\n",
       " 'ours',\n",
       " '.',\n",
       " 'Yet',\n",
       " 'we',\n",
       " 'have',\n",
       " 'not',\n",
       " 'done',\n",
       " 'this',\n",
       " 'to',\n",
       " 'any',\n",
       " 'other',\n",
       " 'nation',\n",
       " '.',\n",
       " 'We',\n",
       " 'have',\n",
       " 'not',\n",
       " 'conquered',\n",
       " 'anyone',\n",
       " '.',\n",
       " 'We',\n",
       " 'have',\n",
       " 'not',\n",
       " 'grabbed',\n",
       " 'their',\n",
       " 'land',\n",
       " ',',\n",
       " 'their',\n",
       " 'culture',\n",
       " ',',\n",
       " 'their',\n",
       " 'history',\n",
       " 'and',\n",
       " 'Tried',\n",
       " 'to',\n",
       " 'enforce',\n",
       " 'our',\n",
       " 'way',\n",
       " 'of',\n",
       " 'life',\n",
       " 'on',\n",
       " 'them',\n",
       " '.',\n",
       " 'Why',\n",
       " '?',\n",
       " 'Because',\n",
       " 'we',\n",
       " 'respect',\n",
       " 'the',\n",
       " 'freedom',\n",
       " 'of',\n",
       " 'others',\n",
       " '.',\n",
       " 'That',\n",
       " 'is',\n",
       " 'why',\n",
       " 'my',\n",
       " 'first',\n",
       " 'vision',\n",
       " 'is',\n",
       " 'that',\n",
       " 'of',\n",
       " 'FREEDOM',\n",
       " '.',\n",
       " 'I',\n",
       " 'believe',\n",
       " 'that',\n",
       " 'India',\n",
       " 'got',\n",
       " 'its',\n",
       " 'first',\n",
       " 'vision',\n",
       " 'of',\n",
       " 'this',\n",
       " 'in',\n",
       " '1857',\n",
       " ',',\n",
       " 'when',\n",
       " 'we',\n",
       " 'started',\n",
       " 'the',\n",
       " 'war',\n",
       " 'of',\n",
       " 'Independence',\n",
       " '.',\n",
       " 'It',\n",
       " 'is',\n",
       " 'this',\n",
       " 'freedom',\n",
       " 'that',\n",
       " 'we',\n",
       " 'must',\n",
       " 'protect',\n",
       " 'and',\n",
       " 'nurture',\n",
       " 'and',\n",
       " 'build',\n",
       " 'on',\n",
       " '.',\n",
       " 'If',\n",
       " 'we',\n",
       " 'are',\n",
       " 'not',\n",
       " 'free',\n",
       " ',',\n",
       " 'no',\n",
       " 'one',\n",
       " 'will',\n",
       " 'respect',\n",
       " 'us',\n",
       " '.',\n",
       " 'My',\n",
       " 'second',\n",
       " 'vision',\n",
       " 'for',\n",
       " 'India',\n",
       " '’',\n",
       " 's',\n",
       " 'DEVELOPMENT',\n",
       " ',',\n",
       " 'For',\n",
       " 'fifty',\n",
       " 'years',\n",
       " 'we',\n",
       " 'have',\n",
       " 'been',\n",
       " 'A',\n",
       " 'developing',\n",
       " 'nation',\n",
       " '.',\n",
       " 'It',\n",
       " 'is',\n",
       " 'time',\n",
       " 'we',\n",
       " 'see',\n",
       " 'ourselves',\n",
       " 'as',\n",
       " 'a',\n",
       " 'developed',\n",
       " 'nation',\n",
       " '.',\n",
       " 'We',\n",
       " 'are',\n",
       " 'among',\n",
       " 'top',\n",
       " '5',\n",
       " 'nations',\n",
       " 'of',\n",
       " 'the',\n",
       " 'world',\n",
       " 'in',\n",
       " 'terms',\n",
       " 'of',\n",
       " 'GDP',\n",
       " '.',\n",
       " 'We',\n",
       " 'have',\n",
       " '10',\n",
       " 'percent',\n",
       " 'growth',\n",
       " 'rate',\n",
       " 'in',\n",
       " 'most',\n",
       " 'areas',\n",
       " '.',\n",
       " 'Our',\n",
       " 'poverty',\n",
       " 'levels',\n",
       " 'are',\n",
       " 'falling',\n",
       " '.',\n",
       " 'Our',\n",
       " 'achievements',\n",
       " 'are',\n",
       " 'being',\n",
       " 'globally',\n",
       " 'recognized',\n",
       " 'today',\n",
       " '.',\n",
       " 'Yet',\n",
       " 'we',\n",
       " 'lack',\n",
       " 'the',\n",
       " 'self-confidence',\n",
       " 'to',\n",
       " 'see',\n",
       " 'ourselves',\n",
       " 'as',\n",
       " 'a',\n",
       " 'developed',\n",
       " 'nation',\n",
       " ',',\n",
       " 'self-reliant',\n",
       " 'and',\n",
       " 'self-assured',\n",
       " '.',\n",
       " 'Isn',\n",
       " '’',\n",
       " 't',\n",
       " 'this',\n",
       " 'incorrect',\n",
       " '?',\n",
       " 'I',\n",
       " 'have',\n",
       " 'a',\n",
       " 'THIRD',\n",
       " 'vision',\n",
       " '.',\n",
       " 'India',\n",
       " 'must',\n",
       " 'stand',\n",
       " 'up',\n",
       " 'to',\n",
       " 'the',\n",
       " 'world',\n",
       " '.',\n",
       " 'Because',\n",
       " 'I',\n",
       " 'believe',\n",
       " 'that',\n",
       " ',',\n",
       " 'unless',\n",
       " 'India',\n",
       " 'stands',\n",
       " 'up',\n",
       " 'to',\n",
       " 'the',\n",
       " 'world',\n",
       " ',',\n",
       " 'no',\n",
       " 'one',\n",
       " 'will',\n",
       " 'respect',\n",
       " 'us',\n",
       " '.',\n",
       " 'Only',\n",
       " 'strength',\n",
       " 'respects',\n",
       " 'strength',\n",
       " '.',\n",
       " 'We',\n",
       " 'must',\n",
       " 'be',\n",
       " 'strong',\n",
       " 'not',\n",
       " 'only',\n",
       " 'as',\n",
       " 'a',\n",
       " 'military',\n",
       " 'power',\n",
       " 'but',\n",
       " 'also',\n",
       " 'as',\n",
       " 'an',\n",
       " 'economic',\n",
       " 'power',\n",
       " '.',\n",
       " 'Both',\n",
       " 'must',\n",
       " 'go',\n",
       " 'hand-in-hand',\n",
       " '.',\n",
       " 'My',\n",
       " 'good',\n",
       " 'fortune',\n",
       " 'was',\n",
       " 'to',\n",
       " 'have',\n",
       " 'worked',\n",
       " 'with',\n",
       " 'three',\n",
       " 'great',\n",
       " 'minds',\n",
       " '.',\n",
       " 'Dr.',\n",
       " 'Vikram',\n",
       " 'Sarabhai',\n",
       " 'of',\n",
       " 'the',\n",
       " 'Dept',\n",
       " '.',\n",
       " 'of',\n",
       " 'space',\n",
       " ',',\n",
       " 'Professor',\n",
       " 'Satish',\n",
       " 'Dhawan',\n",
       " ',',\n",
       " 'who',\n",
       " 'succeeded',\n",
       " 'him',\n",
       " 'and',\n",
       " 'Dr.Brahm',\n",
       " 'Prakash',\n",
       " ',',\n",
       " 'father',\n",
       " 'of',\n",
       " 'nuclear',\n",
       " 'material',\n",
       " '.',\n",
       " 'I',\n",
       " 'was',\n",
       " 'lucky',\n",
       " 'to',\n",
       " 'have',\n",
       " 'worked',\n",
       " 'with',\n",
       " 'all',\n",
       " 'three',\n",
       " 'of',\n",
       " 'them',\n",
       " 'closely',\n",
       " 'and',\n",
       " 'consider',\n",
       " 'this',\n",
       " 'the',\n",
       " 'great',\n",
       " 'opportunity',\n",
       " 'of',\n",
       " 'my',\n",
       " 'life',\n",
       " '.']"
      ]
     },
     "execution_count": 17,
     "metadata": {},
     "output_type": "execute_result"
    }
   ],
   "source": [
    "words"
   ]
  },
  {
   "cell_type": "code",
   "execution_count": 18,
   "id": "ce451bb4",
   "metadata": {},
   "outputs": [
    {
     "data": {
      "text/plain": [
       "30"
      ]
     },
     "execution_count": 18,
     "metadata": {},
     "output_type": "execute_result"
    }
   ],
   "source": [
    "len(sent)"
   ]
  },
  {
   "cell_type": "code",
   "execution_count": 19,
   "id": "7eae36d7",
   "metadata": {},
   "outputs": [
    {
     "data": {
      "text/plain": [
       "392"
      ]
     },
     "execution_count": 19,
     "metadata": {},
     "output_type": "execute_result"
    }
   ],
   "source": [
    "len(words)"
   ]
  },
  {
   "cell_type": "code",
   "execution_count": 20,
   "id": "287cc992",
   "metadata": {},
   "outputs": [],
   "source": [
    "#now we will be doing stemming or lemmetizing...."
   ]
  },
  {
   "cell_type": "code",
   "execution_count": 21,
   "id": "99448c92",
   "metadata": {},
   "outputs": [],
   "source": [
    "#stemming and lemetizing is basically same except when we need words to be more understandable we do lemmetizing and when we dont care much abiut word meaning we do stemming..."
   ]
  },
  {
   "cell_type": "code",
   "execution_count": 22,
   "id": "843a1599",
   "metadata": {},
   "outputs": [],
   "source": [
    "#import stemmer by from nltk.stem import portstemmer()"
   ]
  },
  {
   "cell_type": "code",
   "execution_count": 23,
   "id": "2c207438",
   "metadata": {},
   "outputs": [],
   "source": [
    "#we will be also cleanig data y importing stopwords modeulke"
   ]
  },
  {
   "cell_type": "code",
   "execution_count": 24,
   "id": "6df6b11b",
   "metadata": {},
   "outputs": [],
   "source": [
    "#$stopwords will remove inneccesary char and unimportant words from darta"
   ]
  },
  {
   "cell_type": "code",
   "execution_count": 25,
   "id": "c6ae444f",
   "metadata": {},
   "outputs": [],
   "source": [
    "from nltk.stem import PorterStemmer\n",
    "from nltk.corpus import stopwords"
   ]
  },
  {
   "cell_type": "code",
   "execution_count": 26,
   "id": "223749d1",
   "metadata": {},
   "outputs": [],
   "source": [
    "stemmer=PorterStemmer()"
   ]
  },
  {
   "cell_type": "code",
   "execution_count": 27,
   "id": "6491612c",
   "metadata": {},
   "outputs": [],
   "source": [
    "#stemmer actualkly does sim type of words to one word"
   ]
  },
  {
   "cell_type": "code",
   "execution_count": 28,
   "id": "1c7a0c58",
   "metadata": {},
   "outputs": [],
   "source": [
    "#so now apply stemming and stopwords..."
   ]
  },
  {
   "cell_type": "code",
   "execution_count": 32,
   "id": "1de2c8d5",
   "metadata": {},
   "outputs": [],
   "source": [
    "for i in range(len(sent)):\n",
    "    word_s=nltk.word_tokenize(sent[i])\n",
    "    word_s=[stemmer.stem(word)for word in words if word not in set(stopwords.words('english'))]#applying stemming\n",
    "    sent[i]=' '.join(word_s)"
   ]
  },
  {
   "cell_type": "code",
   "execution_count": 33,
   "id": "07160e4a",
   "metadata": {},
   "outputs": [
    {
     "data": {
      "text/plain": [
       "['i three vision india . in 3000 year histori , peopl world come invad us , captur land , conquer mind . from alexand onward , the greek , turk , mogul , portugues , british , french , dutch , came loot us , took . yet done nation . we conquer anyon . we grab land , cultur , histori tri enforc way life . whi ? becaus respect freedom other . that first vision freedom . i believ india got first vision 1857 , start war independ . it freedom must protect nurtur build . if free , one respect us . my second vision india ’ develop , for fifti year a develop nation . it time see develop nation . we among top 5 nation world term gdp . we 10 percent growth rate area . our poverti level fall . our achiev global recogn today . yet lack self-confid see develop nation , self-reli self-assur . isn ’ incorrect ? i third vision . india must stand world . becaus i believ , unless india stand world , one respect us . onli strength respect strength . we must strong militari power also econom power . both must go hand-in-hand . my good fortun work three great mind . dr. vikram sarabhai dept . space , professor satish dhawan , succeed dr.brahm prakash , father nuclear materi . i lucki work three close consid great opportun life .',\n",
       " 'i three vision india . in 3000 year histori , peopl world come invad us , captur land , conquer mind . from alexand onward , the greek , turk , mogul , portugues , british , french , dutch , came loot us , took . yet done nation . we conquer anyon . we grab land , cultur , histori tri enforc way life . whi ? becaus respect freedom other . that first vision freedom . i believ india got first vision 1857 , start war independ . it freedom must protect nurtur build . if free , one respect us . my second vision india ’ develop , for fifti year a develop nation . it time see develop nation . we among top 5 nation world term gdp . we 10 percent growth rate area . our poverti level fall . our achiev global recogn today . yet lack self-confid see develop nation , self-reli self-assur . isn ’ incorrect ? i third vision . india must stand world . becaus i believ , unless india stand world , one respect us . onli strength respect strength . we must strong militari power also econom power . both must go hand-in-hand . my good fortun work three great mind . dr. vikram sarabhai dept . space , professor satish dhawan , succeed dr.brahm prakash , father nuclear materi . i lucki work three close consid great opportun life .',\n",
       " 'i three vision india . in 3000 year histori , peopl world come invad us , captur land , conquer mind . from alexand onward , the greek , turk , mogul , portugues , british , french , dutch , came loot us , took . yet done nation . we conquer anyon . we grab land , cultur , histori tri enforc way life . whi ? becaus respect freedom other . that first vision freedom . i believ india got first vision 1857 , start war independ . it freedom must protect nurtur build . if free , one respect us . my second vision india ’ develop , for fifti year a develop nation . it time see develop nation . we among top 5 nation world term gdp . we 10 percent growth rate area . our poverti level fall . our achiev global recogn today . yet lack self-confid see develop nation , self-reli self-assur . isn ’ incorrect ? i third vision . india must stand world . becaus i believ , unless india stand world , one respect us . onli strength respect strength . we must strong militari power also econom power . both must go hand-in-hand . my good fortun work three great mind . dr. vikram sarabhai dept . space , professor satish dhawan , succeed dr.brahm prakash , father nuclear materi . i lucki work three close consid great opportun life .',\n",
       " 'i three vision india . in 3000 year histori , peopl world come invad us , captur land , conquer mind . from alexand onward , the greek , turk , mogul , portugues , british , french , dutch , came loot us , took . yet done nation . we conquer anyon . we grab land , cultur , histori tri enforc way life . whi ? becaus respect freedom other . that first vision freedom . i believ india got first vision 1857 , start war independ . it freedom must protect nurtur build . if free , one respect us . my second vision india ’ develop , for fifti year a develop nation . it time see develop nation . we among top 5 nation world term gdp . we 10 percent growth rate area . our poverti level fall . our achiev global recogn today . yet lack self-confid see develop nation , self-reli self-assur . isn ’ incorrect ? i third vision . india must stand world . becaus i believ , unless india stand world , one respect us . onli strength respect strength . we must strong militari power also econom power . both must go hand-in-hand . my good fortun work three great mind . dr. vikram sarabhai dept . space , professor satish dhawan , succeed dr.brahm prakash , father nuclear materi . i lucki work three close consid great opportun life .',\n",
       " 'i three vision india . in 3000 year histori , peopl world come invad us , captur land , conquer mind . from alexand onward , the greek , turk , mogul , portugues , british , french , dutch , came loot us , took . yet done nation . we conquer anyon . we grab land , cultur , histori tri enforc way life . whi ? becaus respect freedom other . that first vision freedom . i believ india got first vision 1857 , start war independ . it freedom must protect nurtur build . if free , one respect us . my second vision india ’ develop , for fifti year a develop nation . it time see develop nation . we among top 5 nation world term gdp . we 10 percent growth rate area . our poverti level fall . our achiev global recogn today . yet lack self-confid see develop nation , self-reli self-assur . isn ’ incorrect ? i third vision . india must stand world . becaus i believ , unless india stand world , one respect us . onli strength respect strength . we must strong militari power also econom power . both must go hand-in-hand . my good fortun work three great mind . dr. vikram sarabhai dept . space , professor satish dhawan , succeed dr.brahm prakash , father nuclear materi . i lucki work three close consid great opportun life .',\n",
       " 'i three vision india . in 3000 year histori , peopl world come invad us , captur land , conquer mind . from alexand onward , the greek , turk , mogul , portugues , british , french , dutch , came loot us , took . yet done nation . we conquer anyon . we grab land , cultur , histori tri enforc way life . whi ? becaus respect freedom other . that first vision freedom . i believ india got first vision 1857 , start war independ . it freedom must protect nurtur build . if free , one respect us . my second vision india ’ develop , for fifti year a develop nation . it time see develop nation . we among top 5 nation world term gdp . we 10 percent growth rate area . our poverti level fall . our achiev global recogn today . yet lack self-confid see develop nation , self-reli self-assur . isn ’ incorrect ? i third vision . india must stand world . becaus i believ , unless india stand world , one respect us . onli strength respect strength . we must strong militari power also econom power . both must go hand-in-hand . my good fortun work three great mind . dr. vikram sarabhai dept . space , professor satish dhawan , succeed dr.brahm prakash , father nuclear materi . i lucki work three close consid great opportun life .',\n",
       " 'i three vision india . in 3000 year histori , peopl world come invad us , captur land , conquer mind . from alexand onward , the greek , turk , mogul , portugues , british , french , dutch , came loot us , took . yet done nation . we conquer anyon . we grab land , cultur , histori tri enforc way life . whi ? becaus respect freedom other . that first vision freedom . i believ india got first vision 1857 , start war independ . it freedom must protect nurtur build . if free , one respect us . my second vision india ’ develop , for fifti year a develop nation . it time see develop nation . we among top 5 nation world term gdp . we 10 percent growth rate area . our poverti level fall . our achiev global recogn today . yet lack self-confid see develop nation , self-reli self-assur . isn ’ incorrect ? i third vision . india must stand world . becaus i believ , unless india stand world , one respect us . onli strength respect strength . we must strong militari power also econom power . both must go hand-in-hand . my good fortun work three great mind . dr. vikram sarabhai dept . space , professor satish dhawan , succeed dr.brahm prakash , father nuclear materi . i lucki work three close consid great opportun life .',\n",
       " 'i three vision india . in 3000 year histori , peopl world come invad us , captur land , conquer mind . from alexand onward , the greek , turk , mogul , portugues , british , french , dutch , came loot us , took . yet done nation . we conquer anyon . we grab land , cultur , histori tri enforc way life . whi ? becaus respect freedom other . that first vision freedom . i believ india got first vision 1857 , start war independ . it freedom must protect nurtur build . if free , one respect us . my second vision india ’ develop , for fifti year a develop nation . it time see develop nation . we among top 5 nation world term gdp . we 10 percent growth rate area . our poverti level fall . our achiev global recogn today . yet lack self-confid see develop nation , self-reli self-assur . isn ’ incorrect ? i third vision . india must stand world . becaus i believ , unless india stand world , one respect us . onli strength respect strength . we must strong militari power also econom power . both must go hand-in-hand . my good fortun work three great mind . dr. vikram sarabhai dept . space , professor satish dhawan , succeed dr.brahm prakash , father nuclear materi . i lucki work three close consid great opportun life .',\n",
       " 'i three vision india . in 3000 year histori , peopl world come invad us , captur land , conquer mind . from alexand onward , the greek , turk , mogul , portugues , british , french , dutch , came loot us , took . yet done nation . we conquer anyon . we grab land , cultur , histori tri enforc way life . whi ? becaus respect freedom other . that first vision freedom . i believ india got first vision 1857 , start war independ . it freedom must protect nurtur build . if free , one respect us . my second vision india ’ develop , for fifti year a develop nation . it time see develop nation . we among top 5 nation world term gdp . we 10 percent growth rate area . our poverti level fall . our achiev global recogn today . yet lack self-confid see develop nation , self-reli self-assur . isn ’ incorrect ? i third vision . india must stand world . becaus i believ , unless india stand world , one respect us . onli strength respect strength . we must strong militari power also econom power . both must go hand-in-hand . my good fortun work three great mind . dr. vikram sarabhai dept . space , professor satish dhawan , succeed dr.brahm prakash , father nuclear materi . i lucki work three close consid great opportun life .',\n",
       " 'i three vision india . in 3000 year histori , peopl world come invad us , captur land , conquer mind . from alexand onward , the greek , turk , mogul , portugues , british , french , dutch , came loot us , took . yet done nation . we conquer anyon . we grab land , cultur , histori tri enforc way life . whi ? becaus respect freedom other . that first vision freedom . i believ india got first vision 1857 , start war independ . it freedom must protect nurtur build . if free , one respect us . my second vision india ’ develop , for fifti year a develop nation . it time see develop nation . we among top 5 nation world term gdp . we 10 percent growth rate area . our poverti level fall . our achiev global recogn today . yet lack self-confid see develop nation , self-reli self-assur . isn ’ incorrect ? i third vision . india must stand world . becaus i believ , unless india stand world , one respect us . onli strength respect strength . we must strong militari power also econom power . both must go hand-in-hand . my good fortun work three great mind . dr. vikram sarabhai dept . space , professor satish dhawan , succeed dr.brahm prakash , father nuclear materi . i lucki work three close consid great opportun life .',\n",
       " 'i three vision india . in 3000 year histori , peopl world come invad us , captur land , conquer mind . from alexand onward , the greek , turk , mogul , portugues , british , french , dutch , came loot us , took . yet done nation . we conquer anyon . we grab land , cultur , histori tri enforc way life . whi ? becaus respect freedom other . that first vision freedom . i believ india got first vision 1857 , start war independ . it freedom must protect nurtur build . if free , one respect us . my second vision india ’ develop , for fifti year a develop nation . it time see develop nation . we among top 5 nation world term gdp . we 10 percent growth rate area . our poverti level fall . our achiev global recogn today . yet lack self-confid see develop nation , self-reli self-assur . isn ’ incorrect ? i third vision . india must stand world . becaus i believ , unless india stand world , one respect us . onli strength respect strength . we must strong militari power also econom power . both must go hand-in-hand . my good fortun work three great mind . dr. vikram sarabhai dept . space , professor satish dhawan , succeed dr.brahm prakash , father nuclear materi . i lucki work three close consid great opportun life .',\n",
       " 'i three vision india . in 3000 year histori , peopl world come invad us , captur land , conquer mind . from alexand onward , the greek , turk , mogul , portugues , british , french , dutch , came loot us , took . yet done nation . we conquer anyon . we grab land , cultur , histori tri enforc way life . whi ? becaus respect freedom other . that first vision freedom . i believ india got first vision 1857 , start war independ . it freedom must protect nurtur build . if free , one respect us . my second vision india ’ develop , for fifti year a develop nation . it time see develop nation . we among top 5 nation world term gdp . we 10 percent growth rate area . our poverti level fall . our achiev global recogn today . yet lack self-confid see develop nation , self-reli self-assur . isn ’ incorrect ? i third vision . india must stand world . becaus i believ , unless india stand world , one respect us . onli strength respect strength . we must strong militari power also econom power . both must go hand-in-hand . my good fortun work three great mind . dr. vikram sarabhai dept . space , professor satish dhawan , succeed dr.brahm prakash , father nuclear materi . i lucki work three close consid great opportun life .',\n",
       " 'i three vision india . in 3000 year histori , peopl world come invad us , captur land , conquer mind . from alexand onward , the greek , turk , mogul , portugues , british , french , dutch , came loot us , took . yet done nation . we conquer anyon . we grab land , cultur , histori tri enforc way life . whi ? becaus respect freedom other . that first vision freedom . i believ india got first vision 1857 , start war independ . it freedom must protect nurtur build . if free , one respect us . my second vision india ’ develop , for fifti year a develop nation . it time see develop nation . we among top 5 nation world term gdp . we 10 percent growth rate area . our poverti level fall . our achiev global recogn today . yet lack self-confid see develop nation , self-reli self-assur . isn ’ incorrect ? i third vision . india must stand world . becaus i believ , unless india stand world , one respect us . onli strength respect strength . we must strong militari power also econom power . both must go hand-in-hand . my good fortun work three great mind . dr. vikram sarabhai dept . space , professor satish dhawan , succeed dr.brahm prakash , father nuclear materi . i lucki work three close consid great opportun life .',\n",
       " 'i three vision india . in 3000 year histori , peopl world come invad us , captur land , conquer mind . from alexand onward , the greek , turk , mogul , portugues , british , french , dutch , came loot us , took . yet done nation . we conquer anyon . we grab land , cultur , histori tri enforc way life . whi ? becaus respect freedom other . that first vision freedom . i believ india got first vision 1857 , start war independ . it freedom must protect nurtur build . if free , one respect us . my second vision india ’ develop , for fifti year a develop nation . it time see develop nation . we among top 5 nation world term gdp . we 10 percent growth rate area . our poverti level fall . our achiev global recogn today . yet lack self-confid see develop nation , self-reli self-assur . isn ’ incorrect ? i third vision . india must stand world . becaus i believ , unless india stand world , one respect us . onli strength respect strength . we must strong militari power also econom power . both must go hand-in-hand . my good fortun work three great mind . dr. vikram sarabhai dept . space , professor satish dhawan , succeed dr.brahm prakash , father nuclear materi . i lucki work three close consid great opportun life .',\n",
       " 'i three vision india . in 3000 year histori , peopl world come invad us , captur land , conquer mind . from alexand onward , the greek , turk , mogul , portugues , british , french , dutch , came loot us , took . yet done nation . we conquer anyon . we grab land , cultur , histori tri enforc way life . whi ? becaus respect freedom other . that first vision freedom . i believ india got first vision 1857 , start war independ . it freedom must protect nurtur build . if free , one respect us . my second vision india ’ develop , for fifti year a develop nation . it time see develop nation . we among top 5 nation world term gdp . we 10 percent growth rate area . our poverti level fall . our achiev global recogn today . yet lack self-confid see develop nation , self-reli self-assur . isn ’ incorrect ? i third vision . india must stand world . becaus i believ , unless india stand world , one respect us . onli strength respect strength . we must strong militari power also econom power . both must go hand-in-hand . my good fortun work three great mind . dr. vikram sarabhai dept . space , professor satish dhawan , succeed dr.brahm prakash , father nuclear materi . i lucki work three close consid great opportun life .',\n",
       " 'i three vision india . in 3000 year histori , peopl world come invad us , captur land , conquer mind . from alexand onward , the greek , turk , mogul , portugues , british , french , dutch , came loot us , took . yet done nation . we conquer anyon . we grab land , cultur , histori tri enforc way life . whi ? becaus respect freedom other . that first vision freedom . i believ india got first vision 1857 , start war independ . it freedom must protect nurtur build . if free , one respect us . my second vision india ’ develop , for fifti year a develop nation . it time see develop nation . we among top 5 nation world term gdp . we 10 percent growth rate area . our poverti level fall . our achiev global recogn today . yet lack self-confid see develop nation , self-reli self-assur . isn ’ incorrect ? i third vision . india must stand world . becaus i believ , unless india stand world , one respect us . onli strength respect strength . we must strong militari power also econom power . both must go hand-in-hand . my good fortun work three great mind . dr. vikram sarabhai dept . space , professor satish dhawan , succeed dr.brahm prakash , father nuclear materi . i lucki work three close consid great opportun life .',\n",
       " 'i three vision india . in 3000 year histori , peopl world come invad us , captur land , conquer mind . from alexand onward , the greek , turk , mogul , portugues , british , french , dutch , came loot us , took . yet done nation . we conquer anyon . we grab land , cultur , histori tri enforc way life . whi ? becaus respect freedom other . that first vision freedom . i believ india got first vision 1857 , start war independ . it freedom must protect nurtur build . if free , one respect us . my second vision india ’ develop , for fifti year a develop nation . it time see develop nation . we among top 5 nation world term gdp . we 10 percent growth rate area . our poverti level fall . our achiev global recogn today . yet lack self-confid see develop nation , self-reli self-assur . isn ’ incorrect ? i third vision . india must stand world . becaus i believ , unless india stand world , one respect us . onli strength respect strength . we must strong militari power also econom power . both must go hand-in-hand . my good fortun work three great mind . dr. vikram sarabhai dept . space , professor satish dhawan , succeed dr.brahm prakash , father nuclear materi . i lucki work three close consid great opportun life .',\n",
       " 'i three vision india . in 3000 year histori , peopl world come invad us , captur land , conquer mind . from alexand onward , the greek , turk , mogul , portugues , british , french , dutch , came loot us , took . yet done nation . we conquer anyon . we grab land , cultur , histori tri enforc way life . whi ? becaus respect freedom other . that first vision freedom . i believ india got first vision 1857 , start war independ . it freedom must protect nurtur build . if free , one respect us . my second vision india ’ develop , for fifti year a develop nation . it time see develop nation . we among top 5 nation world term gdp . we 10 percent growth rate area . our poverti level fall . our achiev global recogn today . yet lack self-confid see develop nation , self-reli self-assur . isn ’ incorrect ? i third vision . india must stand world . becaus i believ , unless india stand world , one respect us . onli strength respect strength . we must strong militari power also econom power . both must go hand-in-hand . my good fortun work three great mind . dr. vikram sarabhai dept . space , professor satish dhawan , succeed dr.brahm prakash , father nuclear materi . i lucki work three close consid great opportun life .',\n",
       " 'i three vision india . in 3000 year histori , peopl world come invad us , captur land , conquer mind . from alexand onward , the greek , turk , mogul , portugues , british , french , dutch , came loot us , took . yet done nation . we conquer anyon . we grab land , cultur , histori tri enforc way life . whi ? becaus respect freedom other . that first vision freedom . i believ india got first vision 1857 , start war independ . it freedom must protect nurtur build . if free , one respect us . my second vision india ’ develop , for fifti year a develop nation . it time see develop nation . we among top 5 nation world term gdp . we 10 percent growth rate area . our poverti level fall . our achiev global recogn today . yet lack self-confid see develop nation , self-reli self-assur . isn ’ incorrect ? i third vision . india must stand world . becaus i believ , unless india stand world , one respect us . onli strength respect strength . we must strong militari power also econom power . both must go hand-in-hand . my good fortun work three great mind . dr. vikram sarabhai dept . space , professor satish dhawan , succeed dr.brahm prakash , father nuclear materi . i lucki work three close consid great opportun life .',\n",
       " 'i three vision india . in 3000 year histori , peopl world come invad us , captur land , conquer mind . from alexand onward , the greek , turk , mogul , portugues , british , french , dutch , came loot us , took . yet done nation . we conquer anyon . we grab land , cultur , histori tri enforc way life . whi ? becaus respect freedom other . that first vision freedom . i believ india got first vision 1857 , start war independ . it freedom must protect nurtur build . if free , one respect us . my second vision india ’ develop , for fifti year a develop nation . it time see develop nation . we among top 5 nation world term gdp . we 10 percent growth rate area . our poverti level fall . our achiev global recogn today . yet lack self-confid see develop nation , self-reli self-assur . isn ’ incorrect ? i third vision . india must stand world . becaus i believ , unless india stand world , one respect us . onli strength respect strength . we must strong militari power also econom power . both must go hand-in-hand . my good fortun work three great mind . dr. vikram sarabhai dept . space , professor satish dhawan , succeed dr.brahm prakash , father nuclear materi . i lucki work three close consid great opportun life .',\n",
       " 'i three vision india . in 3000 year histori , peopl world come invad us , captur land , conquer mind . from alexand onward , the greek , turk , mogul , portugues , british , french , dutch , came loot us , took . yet done nation . we conquer anyon . we grab land , cultur , histori tri enforc way life . whi ? becaus respect freedom other . that first vision freedom . i believ india got first vision 1857 , start war independ . it freedom must protect nurtur build . if free , one respect us . my second vision india ’ develop , for fifti year a develop nation . it time see develop nation . we among top 5 nation world term gdp . we 10 percent growth rate area . our poverti level fall . our achiev global recogn today . yet lack self-confid see develop nation , self-reli self-assur . isn ’ incorrect ? i third vision . india must stand world . becaus i believ , unless india stand world , one respect us . onli strength respect strength . we must strong militari power also econom power . both must go hand-in-hand . my good fortun work three great mind . dr. vikram sarabhai dept . space , professor satish dhawan , succeed dr.brahm prakash , father nuclear materi . i lucki work three close consid great opportun life .',\n",
       " 'i three vision india . in 3000 year histori , peopl world come invad us , captur land , conquer mind . from alexand onward , the greek , turk , mogul , portugues , british , french , dutch , came loot us , took . yet done nation . we conquer anyon . we grab land , cultur , histori tri enforc way life . whi ? becaus respect freedom other . that first vision freedom . i believ india got first vision 1857 , start war independ . it freedom must protect nurtur build . if free , one respect us . my second vision india ’ develop , for fifti year a develop nation . it time see develop nation . we among top 5 nation world term gdp . we 10 percent growth rate area . our poverti level fall . our achiev global recogn today . yet lack self-confid see develop nation , self-reli self-assur . isn ’ incorrect ? i third vision . india must stand world . becaus i believ , unless india stand world , one respect us . onli strength respect strength . we must strong militari power also econom power . both must go hand-in-hand . my good fortun work three great mind . dr. vikram sarabhai dept . space , professor satish dhawan , succeed dr.brahm prakash , father nuclear materi . i lucki work three close consid great opportun life .',\n",
       " 'i three vision india . in 3000 year histori , peopl world come invad us , captur land , conquer mind . from alexand onward , the greek , turk , mogul , portugues , british , french , dutch , came loot us , took . yet done nation . we conquer anyon . we grab land , cultur , histori tri enforc way life . whi ? becaus respect freedom other . that first vision freedom . i believ india got first vision 1857 , start war independ . it freedom must protect nurtur build . if free , one respect us . my second vision india ’ develop , for fifti year a develop nation . it time see develop nation . we among top 5 nation world term gdp . we 10 percent growth rate area . our poverti level fall . our achiev global recogn today . yet lack self-confid see develop nation , self-reli self-assur . isn ’ incorrect ? i third vision . india must stand world . becaus i believ , unless india stand world , one respect us . onli strength respect strength . we must strong militari power also econom power . both must go hand-in-hand . my good fortun work three great mind . dr. vikram sarabhai dept . space , professor satish dhawan , succeed dr.brahm prakash , father nuclear materi . i lucki work three close consid great opportun life .',\n",
       " 'i three vision india . in 3000 year histori , peopl world come invad us , captur land , conquer mind . from alexand onward , the greek , turk , mogul , portugues , british , french , dutch , came loot us , took . yet done nation . we conquer anyon . we grab land , cultur , histori tri enforc way life . whi ? becaus respect freedom other . that first vision freedom . i believ india got first vision 1857 , start war independ . it freedom must protect nurtur build . if free , one respect us . my second vision india ’ develop , for fifti year a develop nation . it time see develop nation . we among top 5 nation world term gdp . we 10 percent growth rate area . our poverti level fall . our achiev global recogn today . yet lack self-confid see develop nation , self-reli self-assur . isn ’ incorrect ? i third vision . india must stand world . becaus i believ , unless india stand world , one respect us . onli strength respect strength . we must strong militari power also econom power . both must go hand-in-hand . my good fortun work three great mind . dr. vikram sarabhai dept . space , professor satish dhawan , succeed dr.brahm prakash , father nuclear materi . i lucki work three close consid great opportun life .',\n",
       " 'i three vision india . in 3000 year histori , peopl world come invad us , captur land , conquer mind . from alexand onward , the greek , turk , mogul , portugues , british , french , dutch , came loot us , took . yet done nation . we conquer anyon . we grab land , cultur , histori tri enforc way life . whi ? becaus respect freedom other . that first vision freedom . i believ india got first vision 1857 , start war independ . it freedom must protect nurtur build . if free , one respect us . my second vision india ’ develop , for fifti year a develop nation . it time see develop nation . we among top 5 nation world term gdp . we 10 percent growth rate area . our poverti level fall . our achiev global recogn today . yet lack self-confid see develop nation , self-reli self-assur . isn ’ incorrect ? i third vision . india must stand world . becaus i believ , unless india stand world , one respect us . onli strength respect strength . we must strong militari power also econom power . both must go hand-in-hand . my good fortun work three great mind . dr. vikram sarabhai dept . space , professor satish dhawan , succeed dr.brahm prakash , father nuclear materi . i lucki work three close consid great opportun life .',\n",
       " 'i three vision india . in 3000 year histori , peopl world come invad us , captur land , conquer mind . from alexand onward , the greek , turk , mogul , portugues , british , french , dutch , came loot us , took . yet done nation . we conquer anyon . we grab land , cultur , histori tri enforc way life . whi ? becaus respect freedom other . that first vision freedom . i believ india got first vision 1857 , start war independ . it freedom must protect nurtur build . if free , one respect us . my second vision india ’ develop , for fifti year a develop nation . it time see develop nation . we among top 5 nation world term gdp . we 10 percent growth rate area . our poverti level fall . our achiev global recogn today . yet lack self-confid see develop nation , self-reli self-assur . isn ’ incorrect ? i third vision . india must stand world . becaus i believ , unless india stand world , one respect us . onli strength respect strength . we must strong militari power also econom power . both must go hand-in-hand . my good fortun work three great mind . dr. vikram sarabhai dept . space , professor satish dhawan , succeed dr.brahm prakash , father nuclear materi . i lucki work three close consid great opportun life .',\n",
       " 'i three vision india . in 3000 year histori , peopl world come invad us , captur land , conquer mind . from alexand onward , the greek , turk , mogul , portugues , british , french , dutch , came loot us , took . yet done nation . we conquer anyon . we grab land , cultur , histori tri enforc way life . whi ? becaus respect freedom other . that first vision freedom . i believ india got first vision 1857 , start war independ . it freedom must protect nurtur build . if free , one respect us . my second vision india ’ develop , for fifti year a develop nation . it time see develop nation . we among top 5 nation world term gdp . we 10 percent growth rate area . our poverti level fall . our achiev global recogn today . yet lack self-confid see develop nation , self-reli self-assur . isn ’ incorrect ? i third vision . india must stand world . becaus i believ , unless india stand world , one respect us . onli strength respect strength . we must strong militari power also econom power . both must go hand-in-hand . my good fortun work three great mind . dr. vikram sarabhai dept . space , professor satish dhawan , succeed dr.brahm prakash , father nuclear materi . i lucki work three close consid great opportun life .',\n",
       " 'i three vision india . in 3000 year histori , peopl world come invad us , captur land , conquer mind . from alexand onward , the greek , turk , mogul , portugues , british , french , dutch , came loot us , took . yet done nation . we conquer anyon . we grab land , cultur , histori tri enforc way life . whi ? becaus respect freedom other . that first vision freedom . i believ india got first vision 1857 , start war independ . it freedom must protect nurtur build . if free , one respect us . my second vision india ’ develop , for fifti year a develop nation . it time see develop nation . we among top 5 nation world term gdp . we 10 percent growth rate area . our poverti level fall . our achiev global recogn today . yet lack self-confid see develop nation , self-reli self-assur . isn ’ incorrect ? i third vision . india must stand world . becaus i believ , unless india stand world , one respect us . onli strength respect strength . we must strong militari power also econom power . both must go hand-in-hand . my good fortun work three great mind . dr. vikram sarabhai dept . space , professor satish dhawan , succeed dr.brahm prakash , father nuclear materi . i lucki work three close consid great opportun life .',\n",
       " 'i three vision india . in 3000 year histori , peopl world come invad us , captur land , conquer mind . from alexand onward , the greek , turk , mogul , portugues , british , french , dutch , came loot us , took . yet done nation . we conquer anyon . we grab land , cultur , histori tri enforc way life . whi ? becaus respect freedom other . that first vision freedom . i believ india got first vision 1857 , start war independ . it freedom must protect nurtur build . if free , one respect us . my second vision india ’ develop , for fifti year a develop nation . it time see develop nation . we among top 5 nation world term gdp . we 10 percent growth rate area . our poverti level fall . our achiev global recogn today . yet lack self-confid see develop nation , self-reli self-assur . isn ’ incorrect ? i third vision . india must stand world . becaus i believ , unless india stand world , one respect us . onli strength respect strength . we must strong militari power also econom power . both must go hand-in-hand . my good fortun work three great mind . dr. vikram sarabhai dept . space , professor satish dhawan , succeed dr.brahm prakash , father nuclear materi . i lucki work three close consid great opportun life .',\n",
       " 'i three vision india . in 3000 year histori , peopl world come invad us , captur land , conquer mind . from alexand onward , the greek , turk , mogul , portugues , british , french , dutch , came loot us , took . yet done nation . we conquer anyon . we grab land , cultur , histori tri enforc way life . whi ? becaus respect freedom other . that first vision freedom . i believ india got first vision 1857 , start war independ . it freedom must protect nurtur build . if free , one respect us . my second vision india ’ develop , for fifti year a develop nation . it time see develop nation . we among top 5 nation world term gdp . we 10 percent growth rate area . our poverti level fall . our achiev global recogn today . yet lack self-confid see develop nation , self-reli self-assur . isn ’ incorrect ? i third vision . india must stand world . becaus i believ , unless india stand world , one respect us . onli strength respect strength . we must strong militari power also econom power . both must go hand-in-hand . my good fortun work three great mind . dr. vikram sarabhai dept . space , professor satish dhawan , succeed dr.brahm prakash , father nuclear materi . i lucki work three close consid great opportun life .']"
      ]
     },
     "execution_count": 33,
     "metadata": {},
     "output_type": "execute_result"
    }
   ],
   "source": [
    "sent"
   ]
  },
  {
   "cell_type": "code",
   "execution_count": 34,
   "id": "da87bb0a",
   "metadata": {},
   "outputs": [],
   "source": [
    "#now we will be doing lemmetizing sim to the stemming..."
   ]
  },
  {
   "cell_type": "code",
   "execution_count": 35,
   "id": "d94a6a21",
   "metadata": {},
   "outputs": [],
   "source": [
    "from nltk.stem import WordNetLemmatizer"
   ]
  },
  {
   "cell_type": "code",
   "execution_count": 36,
   "id": "93050c23",
   "metadata": {},
   "outputs": [],
   "source": [
    "lemetize=WordNetLemmatizer()"
   ]
  },
  {
   "cell_type": "code",
   "execution_count": 37,
   "id": "a15a00be",
   "metadata": {},
   "outputs": [],
   "source": [
    "#now sim to stemnmingh"
   ]
  },
  {
   "cell_type": "code",
   "execution_count": 38,
   "id": "3836f341",
   "metadata": {},
   "outputs": [],
   "source": [
    "for i in range(len(sent)):\n",
    "    word_l=nltk.word_tokenize(sent[i])\n",
    "    word_l=[lemetize.lemmatize(word)for word in words if word not in set(stopwords.words('english')) ]#lemmetizing...\n",
    "    sent[i]=' '.join(word_l)"
   ]
  },
  {
   "cell_type": "code",
   "execution_count": 39,
   "id": "3593aa43",
   "metadata": {},
   "outputs": [
    {
     "data": {
      "text/plain": [
       "['I three vision India . In 3000 year history , people world come invaded u , captured land , conquered mind . From Alexander onwards , The Greeks , Turks , Moguls , Portuguese , British , French , Dutch , came looted u , took . Yet done nation . We conquered anyone . We grabbed land , culture , history Tried enforce way life . Why ? Because respect freedom others . That first vision FREEDOM . I believe India got first vision 1857 , started war Independence . It freedom must protect nurture build . If free , one respect u . My second vision India ’ DEVELOPMENT , For fifty year A developing nation . It time see developed nation . We among top 5 nation world term GDP . We 10 percent growth rate area . Our poverty level falling . Our achievement globally recognized today . Yet lack self-confidence see developed nation , self-reliant self-assured . Isn ’ incorrect ? I THIRD vision . India must stand world . Because I believe , unless India stand world , one respect u . Only strength respect strength . We must strong military power also economic power . Both must go hand-in-hand . My good fortune worked three great mind . Dr. Vikram Sarabhai Dept . space , Professor Satish Dhawan , succeeded Dr.Brahm Prakash , father nuclear material . I lucky worked three closely consider great opportunity life .',\n",
       " 'I three vision India . In 3000 year history , people world come invaded u , captured land , conquered mind . From Alexander onwards , The Greeks , Turks , Moguls , Portuguese , British , French , Dutch , came looted u , took . Yet done nation . We conquered anyone . We grabbed land , culture , history Tried enforce way life . Why ? Because respect freedom others . That first vision FREEDOM . I believe India got first vision 1857 , started war Independence . It freedom must protect nurture build . If free , one respect u . My second vision India ’ DEVELOPMENT , For fifty year A developing nation . It time see developed nation . We among top 5 nation world term GDP . We 10 percent growth rate area . Our poverty level falling . Our achievement globally recognized today . Yet lack self-confidence see developed nation , self-reliant self-assured . Isn ’ incorrect ? I THIRD vision . India must stand world . Because I believe , unless India stand world , one respect u . Only strength respect strength . We must strong military power also economic power . Both must go hand-in-hand . My good fortune worked three great mind . Dr. Vikram Sarabhai Dept . space , Professor Satish Dhawan , succeeded Dr.Brahm Prakash , father nuclear material . I lucky worked three closely consider great opportunity life .',\n",
       " 'I three vision India . In 3000 year history , people world come invaded u , captured land , conquered mind . From Alexander onwards , The Greeks , Turks , Moguls , Portuguese , British , French , Dutch , came looted u , took . Yet done nation . We conquered anyone . We grabbed land , culture , history Tried enforce way life . Why ? Because respect freedom others . That first vision FREEDOM . I believe India got first vision 1857 , started war Independence . It freedom must protect nurture build . If free , one respect u . My second vision India ’ DEVELOPMENT , For fifty year A developing nation . It time see developed nation . We among top 5 nation world term GDP . We 10 percent growth rate area . Our poverty level falling . Our achievement globally recognized today . Yet lack self-confidence see developed nation , self-reliant self-assured . Isn ’ incorrect ? I THIRD vision . India must stand world . Because I believe , unless India stand world , one respect u . Only strength respect strength . We must strong military power also economic power . Both must go hand-in-hand . My good fortune worked three great mind . Dr. Vikram Sarabhai Dept . space , Professor Satish Dhawan , succeeded Dr.Brahm Prakash , father nuclear material . I lucky worked three closely consider great opportunity life .',\n",
       " 'I three vision India . In 3000 year history , people world come invaded u , captured land , conquered mind . From Alexander onwards , The Greeks , Turks , Moguls , Portuguese , British , French , Dutch , came looted u , took . Yet done nation . We conquered anyone . We grabbed land , culture , history Tried enforce way life . Why ? Because respect freedom others . That first vision FREEDOM . I believe India got first vision 1857 , started war Independence . It freedom must protect nurture build . If free , one respect u . My second vision India ’ DEVELOPMENT , For fifty year A developing nation . It time see developed nation . We among top 5 nation world term GDP . We 10 percent growth rate area . Our poverty level falling . Our achievement globally recognized today . Yet lack self-confidence see developed nation , self-reliant self-assured . Isn ’ incorrect ? I THIRD vision . India must stand world . Because I believe , unless India stand world , one respect u . Only strength respect strength . We must strong military power also economic power . Both must go hand-in-hand . My good fortune worked three great mind . Dr. Vikram Sarabhai Dept . space , Professor Satish Dhawan , succeeded Dr.Brahm Prakash , father nuclear material . I lucky worked three closely consider great opportunity life .',\n",
       " 'I three vision India . In 3000 year history , people world come invaded u , captured land , conquered mind . From Alexander onwards , The Greeks , Turks , Moguls , Portuguese , British , French , Dutch , came looted u , took . Yet done nation . We conquered anyone . We grabbed land , culture , history Tried enforce way life . Why ? Because respect freedom others . That first vision FREEDOM . I believe India got first vision 1857 , started war Independence . It freedom must protect nurture build . If free , one respect u . My second vision India ’ DEVELOPMENT , For fifty year A developing nation . It time see developed nation . We among top 5 nation world term GDP . We 10 percent growth rate area . Our poverty level falling . Our achievement globally recognized today . Yet lack self-confidence see developed nation , self-reliant self-assured . Isn ’ incorrect ? I THIRD vision . India must stand world . Because I believe , unless India stand world , one respect u . Only strength respect strength . We must strong military power also economic power . Both must go hand-in-hand . My good fortune worked three great mind . Dr. Vikram Sarabhai Dept . space , Professor Satish Dhawan , succeeded Dr.Brahm Prakash , father nuclear material . I lucky worked three closely consider great opportunity life .',\n",
       " 'I three vision India . In 3000 year history , people world come invaded u , captured land , conquered mind . From Alexander onwards , The Greeks , Turks , Moguls , Portuguese , British , French , Dutch , came looted u , took . Yet done nation . We conquered anyone . We grabbed land , culture , history Tried enforce way life . Why ? Because respect freedom others . That first vision FREEDOM . I believe India got first vision 1857 , started war Independence . It freedom must protect nurture build . If free , one respect u . My second vision India ’ DEVELOPMENT , For fifty year A developing nation . It time see developed nation . We among top 5 nation world term GDP . We 10 percent growth rate area . Our poverty level falling . Our achievement globally recognized today . Yet lack self-confidence see developed nation , self-reliant self-assured . Isn ’ incorrect ? I THIRD vision . India must stand world . Because I believe , unless India stand world , one respect u . Only strength respect strength . We must strong military power also economic power . Both must go hand-in-hand . My good fortune worked three great mind . Dr. Vikram Sarabhai Dept . space , Professor Satish Dhawan , succeeded Dr.Brahm Prakash , father nuclear material . I lucky worked three closely consider great opportunity life .',\n",
       " 'I three vision India . In 3000 year history , people world come invaded u , captured land , conquered mind . From Alexander onwards , The Greeks , Turks , Moguls , Portuguese , British , French , Dutch , came looted u , took . Yet done nation . We conquered anyone . We grabbed land , culture , history Tried enforce way life . Why ? Because respect freedom others . That first vision FREEDOM . I believe India got first vision 1857 , started war Independence . It freedom must protect nurture build . If free , one respect u . My second vision India ’ DEVELOPMENT , For fifty year A developing nation . It time see developed nation . We among top 5 nation world term GDP . We 10 percent growth rate area . Our poverty level falling . Our achievement globally recognized today . Yet lack self-confidence see developed nation , self-reliant self-assured . Isn ’ incorrect ? I THIRD vision . India must stand world . Because I believe , unless India stand world , one respect u . Only strength respect strength . We must strong military power also economic power . Both must go hand-in-hand . My good fortune worked three great mind . Dr. Vikram Sarabhai Dept . space , Professor Satish Dhawan , succeeded Dr.Brahm Prakash , father nuclear material . I lucky worked three closely consider great opportunity life .',\n",
       " 'I three vision India . In 3000 year history , people world come invaded u , captured land , conquered mind . From Alexander onwards , The Greeks , Turks , Moguls , Portuguese , British , French , Dutch , came looted u , took . Yet done nation . We conquered anyone . We grabbed land , culture , history Tried enforce way life . Why ? Because respect freedom others . That first vision FREEDOM . I believe India got first vision 1857 , started war Independence . It freedom must protect nurture build . If free , one respect u . My second vision India ’ DEVELOPMENT , For fifty year A developing nation . It time see developed nation . We among top 5 nation world term GDP . We 10 percent growth rate area . Our poverty level falling . Our achievement globally recognized today . Yet lack self-confidence see developed nation , self-reliant self-assured . Isn ’ incorrect ? I THIRD vision . India must stand world . Because I believe , unless India stand world , one respect u . Only strength respect strength . We must strong military power also economic power . Both must go hand-in-hand . My good fortune worked three great mind . Dr. Vikram Sarabhai Dept . space , Professor Satish Dhawan , succeeded Dr.Brahm Prakash , father nuclear material . I lucky worked three closely consider great opportunity life .',\n",
       " 'I three vision India . In 3000 year history , people world come invaded u , captured land , conquered mind . From Alexander onwards , The Greeks , Turks , Moguls , Portuguese , British , French , Dutch , came looted u , took . Yet done nation . We conquered anyone . We grabbed land , culture , history Tried enforce way life . Why ? Because respect freedom others . That first vision FREEDOM . I believe India got first vision 1857 , started war Independence . It freedom must protect nurture build . If free , one respect u . My second vision India ’ DEVELOPMENT , For fifty year A developing nation . It time see developed nation . We among top 5 nation world term GDP . We 10 percent growth rate area . Our poverty level falling . Our achievement globally recognized today . Yet lack self-confidence see developed nation , self-reliant self-assured . Isn ’ incorrect ? I THIRD vision . India must stand world . Because I believe , unless India stand world , one respect u . Only strength respect strength . We must strong military power also economic power . Both must go hand-in-hand . My good fortune worked three great mind . Dr. Vikram Sarabhai Dept . space , Professor Satish Dhawan , succeeded Dr.Brahm Prakash , father nuclear material . I lucky worked three closely consider great opportunity life .',\n",
       " 'I three vision India . In 3000 year history , people world come invaded u , captured land , conquered mind . From Alexander onwards , The Greeks , Turks , Moguls , Portuguese , British , French , Dutch , came looted u , took . Yet done nation . We conquered anyone . We grabbed land , culture , history Tried enforce way life . Why ? Because respect freedom others . That first vision FREEDOM . I believe India got first vision 1857 , started war Independence . It freedom must protect nurture build . If free , one respect u . My second vision India ’ DEVELOPMENT , For fifty year A developing nation . It time see developed nation . We among top 5 nation world term GDP . We 10 percent growth rate area . Our poverty level falling . Our achievement globally recognized today . Yet lack self-confidence see developed nation , self-reliant self-assured . Isn ’ incorrect ? I THIRD vision . India must stand world . Because I believe , unless India stand world , one respect u . Only strength respect strength . We must strong military power also economic power . Both must go hand-in-hand . My good fortune worked three great mind . Dr. Vikram Sarabhai Dept . space , Professor Satish Dhawan , succeeded Dr.Brahm Prakash , father nuclear material . I lucky worked three closely consider great opportunity life .',\n",
       " 'I three vision India . In 3000 year history , people world come invaded u , captured land , conquered mind . From Alexander onwards , The Greeks , Turks , Moguls , Portuguese , British , French , Dutch , came looted u , took . Yet done nation . We conquered anyone . We grabbed land , culture , history Tried enforce way life . Why ? Because respect freedom others . That first vision FREEDOM . I believe India got first vision 1857 , started war Independence . It freedom must protect nurture build . If free , one respect u . My second vision India ’ DEVELOPMENT , For fifty year A developing nation . It time see developed nation . We among top 5 nation world term GDP . We 10 percent growth rate area . Our poverty level falling . Our achievement globally recognized today . Yet lack self-confidence see developed nation , self-reliant self-assured . Isn ’ incorrect ? I THIRD vision . India must stand world . Because I believe , unless India stand world , one respect u . Only strength respect strength . We must strong military power also economic power . Both must go hand-in-hand . My good fortune worked three great mind . Dr. Vikram Sarabhai Dept . space , Professor Satish Dhawan , succeeded Dr.Brahm Prakash , father nuclear material . I lucky worked three closely consider great opportunity life .',\n",
       " 'I three vision India . In 3000 year history , people world come invaded u , captured land , conquered mind . From Alexander onwards , The Greeks , Turks , Moguls , Portuguese , British , French , Dutch , came looted u , took . Yet done nation . We conquered anyone . We grabbed land , culture , history Tried enforce way life . Why ? Because respect freedom others . That first vision FREEDOM . I believe India got first vision 1857 , started war Independence . It freedom must protect nurture build . If free , one respect u . My second vision India ’ DEVELOPMENT , For fifty year A developing nation . It time see developed nation . We among top 5 nation world term GDP . We 10 percent growth rate area . Our poverty level falling . Our achievement globally recognized today . Yet lack self-confidence see developed nation , self-reliant self-assured . Isn ’ incorrect ? I THIRD vision . India must stand world . Because I believe , unless India stand world , one respect u . Only strength respect strength . We must strong military power also economic power . Both must go hand-in-hand . My good fortune worked three great mind . Dr. Vikram Sarabhai Dept . space , Professor Satish Dhawan , succeeded Dr.Brahm Prakash , father nuclear material . I lucky worked three closely consider great opportunity life .',\n",
       " 'I three vision India . In 3000 year history , people world come invaded u , captured land , conquered mind . From Alexander onwards , The Greeks , Turks , Moguls , Portuguese , British , French , Dutch , came looted u , took . Yet done nation . We conquered anyone . We grabbed land , culture , history Tried enforce way life . Why ? Because respect freedom others . That first vision FREEDOM . I believe India got first vision 1857 , started war Independence . It freedom must protect nurture build . If free , one respect u . My second vision India ’ DEVELOPMENT , For fifty year A developing nation . It time see developed nation . We among top 5 nation world term GDP . We 10 percent growth rate area . Our poverty level falling . Our achievement globally recognized today . Yet lack self-confidence see developed nation , self-reliant self-assured . Isn ’ incorrect ? I THIRD vision . India must stand world . Because I believe , unless India stand world , one respect u . Only strength respect strength . We must strong military power also economic power . Both must go hand-in-hand . My good fortune worked three great mind . Dr. Vikram Sarabhai Dept . space , Professor Satish Dhawan , succeeded Dr.Brahm Prakash , father nuclear material . I lucky worked three closely consider great opportunity life .',\n",
       " 'I three vision India . In 3000 year history , people world come invaded u , captured land , conquered mind . From Alexander onwards , The Greeks , Turks , Moguls , Portuguese , British , French , Dutch , came looted u , took . Yet done nation . We conquered anyone . We grabbed land , culture , history Tried enforce way life . Why ? Because respect freedom others . That first vision FREEDOM . I believe India got first vision 1857 , started war Independence . It freedom must protect nurture build . If free , one respect u . My second vision India ’ DEVELOPMENT , For fifty year A developing nation . It time see developed nation . We among top 5 nation world term GDP . We 10 percent growth rate area . Our poverty level falling . Our achievement globally recognized today . Yet lack self-confidence see developed nation , self-reliant self-assured . Isn ’ incorrect ? I THIRD vision . India must stand world . Because I believe , unless India stand world , one respect u . Only strength respect strength . We must strong military power also economic power . Both must go hand-in-hand . My good fortune worked three great mind . Dr. Vikram Sarabhai Dept . space , Professor Satish Dhawan , succeeded Dr.Brahm Prakash , father nuclear material . I lucky worked three closely consider great opportunity life .',\n",
       " 'I three vision India . In 3000 year history , people world come invaded u , captured land , conquered mind . From Alexander onwards , The Greeks , Turks , Moguls , Portuguese , British , French , Dutch , came looted u , took . Yet done nation . We conquered anyone . We grabbed land , culture , history Tried enforce way life . Why ? Because respect freedom others . That first vision FREEDOM . I believe India got first vision 1857 , started war Independence . It freedom must protect nurture build . If free , one respect u . My second vision India ’ DEVELOPMENT , For fifty year A developing nation . It time see developed nation . We among top 5 nation world term GDP . We 10 percent growth rate area . Our poverty level falling . Our achievement globally recognized today . Yet lack self-confidence see developed nation , self-reliant self-assured . Isn ’ incorrect ? I THIRD vision . India must stand world . Because I believe , unless India stand world , one respect u . Only strength respect strength . We must strong military power also economic power . Both must go hand-in-hand . My good fortune worked three great mind . Dr. Vikram Sarabhai Dept . space , Professor Satish Dhawan , succeeded Dr.Brahm Prakash , father nuclear material . I lucky worked three closely consider great opportunity life .',\n",
       " 'I three vision India . In 3000 year history , people world come invaded u , captured land , conquered mind . From Alexander onwards , The Greeks , Turks , Moguls , Portuguese , British , French , Dutch , came looted u , took . Yet done nation . We conquered anyone . We grabbed land , culture , history Tried enforce way life . Why ? Because respect freedom others . That first vision FREEDOM . I believe India got first vision 1857 , started war Independence . It freedom must protect nurture build . If free , one respect u . My second vision India ’ DEVELOPMENT , For fifty year A developing nation . It time see developed nation . We among top 5 nation world term GDP . We 10 percent growth rate area . Our poverty level falling . Our achievement globally recognized today . Yet lack self-confidence see developed nation , self-reliant self-assured . Isn ’ incorrect ? I THIRD vision . India must stand world . Because I believe , unless India stand world , one respect u . Only strength respect strength . We must strong military power also economic power . Both must go hand-in-hand . My good fortune worked three great mind . Dr. Vikram Sarabhai Dept . space , Professor Satish Dhawan , succeeded Dr.Brahm Prakash , father nuclear material . I lucky worked three closely consider great opportunity life .',\n",
       " 'I three vision India . In 3000 year history , people world come invaded u , captured land , conquered mind . From Alexander onwards , The Greeks , Turks , Moguls , Portuguese , British , French , Dutch , came looted u , took . Yet done nation . We conquered anyone . We grabbed land , culture , history Tried enforce way life . Why ? Because respect freedom others . That first vision FREEDOM . I believe India got first vision 1857 , started war Independence . It freedom must protect nurture build . If free , one respect u . My second vision India ’ DEVELOPMENT , For fifty year A developing nation . It time see developed nation . We among top 5 nation world term GDP . We 10 percent growth rate area . Our poverty level falling . Our achievement globally recognized today . Yet lack self-confidence see developed nation , self-reliant self-assured . Isn ’ incorrect ? I THIRD vision . India must stand world . Because I believe , unless India stand world , one respect u . Only strength respect strength . We must strong military power also economic power . Both must go hand-in-hand . My good fortune worked three great mind . Dr. Vikram Sarabhai Dept . space , Professor Satish Dhawan , succeeded Dr.Brahm Prakash , father nuclear material . I lucky worked three closely consider great opportunity life .',\n",
       " 'I three vision India . In 3000 year history , people world come invaded u , captured land , conquered mind . From Alexander onwards , The Greeks , Turks , Moguls , Portuguese , British , French , Dutch , came looted u , took . Yet done nation . We conquered anyone . We grabbed land , culture , history Tried enforce way life . Why ? Because respect freedom others . That first vision FREEDOM . I believe India got first vision 1857 , started war Independence . It freedom must protect nurture build . If free , one respect u . My second vision India ’ DEVELOPMENT , For fifty year A developing nation . It time see developed nation . We among top 5 nation world term GDP . We 10 percent growth rate area . Our poverty level falling . Our achievement globally recognized today . Yet lack self-confidence see developed nation , self-reliant self-assured . Isn ’ incorrect ? I THIRD vision . India must stand world . Because I believe , unless India stand world , one respect u . Only strength respect strength . We must strong military power also economic power . Both must go hand-in-hand . My good fortune worked three great mind . Dr. Vikram Sarabhai Dept . space , Professor Satish Dhawan , succeeded Dr.Brahm Prakash , father nuclear material . I lucky worked three closely consider great opportunity life .',\n",
       " 'I three vision India . In 3000 year history , people world come invaded u , captured land , conquered mind . From Alexander onwards , The Greeks , Turks , Moguls , Portuguese , British , French , Dutch , came looted u , took . Yet done nation . We conquered anyone . We grabbed land , culture , history Tried enforce way life . Why ? Because respect freedom others . That first vision FREEDOM . I believe India got first vision 1857 , started war Independence . It freedom must protect nurture build . If free , one respect u . My second vision India ’ DEVELOPMENT , For fifty year A developing nation . It time see developed nation . We among top 5 nation world term GDP . We 10 percent growth rate area . Our poverty level falling . Our achievement globally recognized today . Yet lack self-confidence see developed nation , self-reliant self-assured . Isn ’ incorrect ? I THIRD vision . India must stand world . Because I believe , unless India stand world , one respect u . Only strength respect strength . We must strong military power also economic power . Both must go hand-in-hand . My good fortune worked three great mind . Dr. Vikram Sarabhai Dept . space , Professor Satish Dhawan , succeeded Dr.Brahm Prakash , father nuclear material . I lucky worked three closely consider great opportunity life .',\n",
       " 'I three vision India . In 3000 year history , people world come invaded u , captured land , conquered mind . From Alexander onwards , The Greeks , Turks , Moguls , Portuguese , British , French , Dutch , came looted u , took . Yet done nation . We conquered anyone . We grabbed land , culture , history Tried enforce way life . Why ? Because respect freedom others . That first vision FREEDOM . I believe India got first vision 1857 , started war Independence . It freedom must protect nurture build . If free , one respect u . My second vision India ’ DEVELOPMENT , For fifty year A developing nation . It time see developed nation . We among top 5 nation world term GDP . We 10 percent growth rate area . Our poverty level falling . Our achievement globally recognized today . Yet lack self-confidence see developed nation , self-reliant self-assured . Isn ’ incorrect ? I THIRD vision . India must stand world . Because I believe , unless India stand world , one respect u . Only strength respect strength . We must strong military power also economic power . Both must go hand-in-hand . My good fortune worked three great mind . Dr. Vikram Sarabhai Dept . space , Professor Satish Dhawan , succeeded Dr.Brahm Prakash , father nuclear material . I lucky worked three closely consider great opportunity life .',\n",
       " 'I three vision India . In 3000 year history , people world come invaded u , captured land , conquered mind . From Alexander onwards , The Greeks , Turks , Moguls , Portuguese , British , French , Dutch , came looted u , took . Yet done nation . We conquered anyone . We grabbed land , culture , history Tried enforce way life . Why ? Because respect freedom others . That first vision FREEDOM . I believe India got first vision 1857 , started war Independence . It freedom must protect nurture build . If free , one respect u . My second vision India ’ DEVELOPMENT , For fifty year A developing nation . It time see developed nation . We among top 5 nation world term GDP . We 10 percent growth rate area . Our poverty level falling . Our achievement globally recognized today . Yet lack self-confidence see developed nation , self-reliant self-assured . Isn ’ incorrect ? I THIRD vision . India must stand world . Because I believe , unless India stand world , one respect u . Only strength respect strength . We must strong military power also economic power . Both must go hand-in-hand . My good fortune worked three great mind . Dr. Vikram Sarabhai Dept . space , Professor Satish Dhawan , succeeded Dr.Brahm Prakash , father nuclear material . I lucky worked three closely consider great opportunity life .',\n",
       " 'I three vision India . In 3000 year history , people world come invaded u , captured land , conquered mind . From Alexander onwards , The Greeks , Turks , Moguls , Portuguese , British , French , Dutch , came looted u , took . Yet done nation . We conquered anyone . We grabbed land , culture , history Tried enforce way life . Why ? Because respect freedom others . That first vision FREEDOM . I believe India got first vision 1857 , started war Independence . It freedom must protect nurture build . If free , one respect u . My second vision India ’ DEVELOPMENT , For fifty year A developing nation . It time see developed nation . We among top 5 nation world term GDP . We 10 percent growth rate area . Our poverty level falling . Our achievement globally recognized today . Yet lack self-confidence see developed nation , self-reliant self-assured . Isn ’ incorrect ? I THIRD vision . India must stand world . Because I believe , unless India stand world , one respect u . Only strength respect strength . We must strong military power also economic power . Both must go hand-in-hand . My good fortune worked three great mind . Dr. Vikram Sarabhai Dept . space , Professor Satish Dhawan , succeeded Dr.Brahm Prakash , father nuclear material . I lucky worked three closely consider great opportunity life .',\n",
       " 'I three vision India . In 3000 year history , people world come invaded u , captured land , conquered mind . From Alexander onwards , The Greeks , Turks , Moguls , Portuguese , British , French , Dutch , came looted u , took . Yet done nation . We conquered anyone . We grabbed land , culture , history Tried enforce way life . Why ? Because respect freedom others . That first vision FREEDOM . I believe India got first vision 1857 , started war Independence . It freedom must protect nurture build . If free , one respect u . My second vision India ’ DEVELOPMENT , For fifty year A developing nation . It time see developed nation . We among top 5 nation world term GDP . We 10 percent growth rate area . Our poverty level falling . Our achievement globally recognized today . Yet lack self-confidence see developed nation , self-reliant self-assured . Isn ’ incorrect ? I THIRD vision . India must stand world . Because I believe , unless India stand world , one respect u . Only strength respect strength . We must strong military power also economic power . Both must go hand-in-hand . My good fortune worked three great mind . Dr. Vikram Sarabhai Dept . space , Professor Satish Dhawan , succeeded Dr.Brahm Prakash , father nuclear material . I lucky worked three closely consider great opportunity life .',\n",
       " 'I three vision India . In 3000 year history , people world come invaded u , captured land , conquered mind . From Alexander onwards , The Greeks , Turks , Moguls , Portuguese , British , French , Dutch , came looted u , took . Yet done nation . We conquered anyone . We grabbed land , culture , history Tried enforce way life . Why ? Because respect freedom others . That first vision FREEDOM . I believe India got first vision 1857 , started war Independence . It freedom must protect nurture build . If free , one respect u . My second vision India ’ DEVELOPMENT , For fifty year A developing nation . It time see developed nation . We among top 5 nation world term GDP . We 10 percent growth rate area . Our poverty level falling . Our achievement globally recognized today . Yet lack self-confidence see developed nation , self-reliant self-assured . Isn ’ incorrect ? I THIRD vision . India must stand world . Because I believe , unless India stand world , one respect u . Only strength respect strength . We must strong military power also economic power . Both must go hand-in-hand . My good fortune worked three great mind . Dr. Vikram Sarabhai Dept . space , Professor Satish Dhawan , succeeded Dr.Brahm Prakash , father nuclear material . I lucky worked three closely consider great opportunity life .',\n",
       " 'I three vision India . In 3000 year history , people world come invaded u , captured land , conquered mind . From Alexander onwards , The Greeks , Turks , Moguls , Portuguese , British , French , Dutch , came looted u , took . Yet done nation . We conquered anyone . We grabbed land , culture , history Tried enforce way life . Why ? Because respect freedom others . That first vision FREEDOM . I believe India got first vision 1857 , started war Independence . It freedom must protect nurture build . If free , one respect u . My second vision India ’ DEVELOPMENT , For fifty year A developing nation . It time see developed nation . We among top 5 nation world term GDP . We 10 percent growth rate area . Our poverty level falling . Our achievement globally recognized today . Yet lack self-confidence see developed nation , self-reliant self-assured . Isn ’ incorrect ? I THIRD vision . India must stand world . Because I believe , unless India stand world , one respect u . Only strength respect strength . We must strong military power also economic power . Both must go hand-in-hand . My good fortune worked three great mind . Dr. Vikram Sarabhai Dept . space , Professor Satish Dhawan , succeeded Dr.Brahm Prakash , father nuclear material . I lucky worked three closely consider great opportunity life .',\n",
       " 'I three vision India . In 3000 year history , people world come invaded u , captured land , conquered mind . From Alexander onwards , The Greeks , Turks , Moguls , Portuguese , British , French , Dutch , came looted u , took . Yet done nation . We conquered anyone . We grabbed land , culture , history Tried enforce way life . Why ? Because respect freedom others . That first vision FREEDOM . I believe India got first vision 1857 , started war Independence . It freedom must protect nurture build . If free , one respect u . My second vision India ’ DEVELOPMENT , For fifty year A developing nation . It time see developed nation . We among top 5 nation world term GDP . We 10 percent growth rate area . Our poverty level falling . Our achievement globally recognized today . Yet lack self-confidence see developed nation , self-reliant self-assured . Isn ’ incorrect ? I THIRD vision . India must stand world . Because I believe , unless India stand world , one respect u . Only strength respect strength . We must strong military power also economic power . Both must go hand-in-hand . My good fortune worked three great mind . Dr. Vikram Sarabhai Dept . space , Professor Satish Dhawan , succeeded Dr.Brahm Prakash , father nuclear material . I lucky worked three closely consider great opportunity life .',\n",
       " 'I three vision India . In 3000 year history , people world come invaded u , captured land , conquered mind . From Alexander onwards , The Greeks , Turks , Moguls , Portuguese , British , French , Dutch , came looted u , took . Yet done nation . We conquered anyone . We grabbed land , culture , history Tried enforce way life . Why ? Because respect freedom others . That first vision FREEDOM . I believe India got first vision 1857 , started war Independence . It freedom must protect nurture build . If free , one respect u . My second vision India ’ DEVELOPMENT , For fifty year A developing nation . It time see developed nation . We among top 5 nation world term GDP . We 10 percent growth rate area . Our poverty level falling . Our achievement globally recognized today . Yet lack self-confidence see developed nation , self-reliant self-assured . Isn ’ incorrect ? I THIRD vision . India must stand world . Because I believe , unless India stand world , one respect u . Only strength respect strength . We must strong military power also economic power . Both must go hand-in-hand . My good fortune worked three great mind . Dr. Vikram Sarabhai Dept . space , Professor Satish Dhawan , succeeded Dr.Brahm Prakash , father nuclear material . I lucky worked three closely consider great opportunity life .',\n",
       " 'I three vision India . In 3000 year history , people world come invaded u , captured land , conquered mind . From Alexander onwards , The Greeks , Turks , Moguls , Portuguese , British , French , Dutch , came looted u , took . Yet done nation . We conquered anyone . We grabbed land , culture , history Tried enforce way life . Why ? Because respect freedom others . That first vision FREEDOM . I believe India got first vision 1857 , started war Independence . It freedom must protect nurture build . If free , one respect u . My second vision India ’ DEVELOPMENT , For fifty year A developing nation . It time see developed nation . We among top 5 nation world term GDP . We 10 percent growth rate area . Our poverty level falling . Our achievement globally recognized today . Yet lack self-confidence see developed nation , self-reliant self-assured . Isn ’ incorrect ? I THIRD vision . India must stand world . Because I believe , unless India stand world , one respect u . Only strength respect strength . We must strong military power also economic power . Both must go hand-in-hand . My good fortune worked three great mind . Dr. Vikram Sarabhai Dept . space , Professor Satish Dhawan , succeeded Dr.Brahm Prakash , father nuclear material . I lucky worked three closely consider great opportunity life .',\n",
       " 'I three vision India . In 3000 year history , people world come invaded u , captured land , conquered mind . From Alexander onwards , The Greeks , Turks , Moguls , Portuguese , British , French , Dutch , came looted u , took . Yet done nation . We conquered anyone . We grabbed land , culture , history Tried enforce way life . Why ? Because respect freedom others . That first vision FREEDOM . I believe India got first vision 1857 , started war Independence . It freedom must protect nurture build . If free , one respect u . My second vision India ’ DEVELOPMENT , For fifty year A developing nation . It time see developed nation . We among top 5 nation world term GDP . We 10 percent growth rate area . Our poverty level falling . Our achievement globally recognized today . Yet lack self-confidence see developed nation , self-reliant self-assured . Isn ’ incorrect ? I THIRD vision . India must stand world . Because I believe , unless India stand world , one respect u . Only strength respect strength . We must strong military power also economic power . Both must go hand-in-hand . My good fortune worked three great mind . Dr. Vikram Sarabhai Dept . space , Professor Satish Dhawan , succeeded Dr.Brahm Prakash , father nuclear material . I lucky worked three closely consider great opportunity life .',\n",
       " 'I three vision India . In 3000 year history , people world come invaded u , captured land , conquered mind . From Alexander onwards , The Greeks , Turks , Moguls , Portuguese , British , French , Dutch , came looted u , took . Yet done nation . We conquered anyone . We grabbed land , culture , history Tried enforce way life . Why ? Because respect freedom others . That first vision FREEDOM . I believe India got first vision 1857 , started war Independence . It freedom must protect nurture build . If free , one respect u . My second vision India ’ DEVELOPMENT , For fifty year A developing nation . It time see developed nation . We among top 5 nation world term GDP . We 10 percent growth rate area . Our poverty level falling . Our achievement globally recognized today . Yet lack self-confidence see developed nation , self-reliant self-assured . Isn ’ incorrect ? I THIRD vision . India must stand world . Because I believe , unless India stand world , one respect u . Only strength respect strength . We must strong military power also economic power . Both must go hand-in-hand . My good fortune worked three great mind . Dr. Vikram Sarabhai Dept . space , Professor Satish Dhawan , succeeded Dr.Brahm Prakash , father nuclear material . I lucky worked three closely consider great opportunity life .']"
      ]
     },
     "execution_count": 39,
     "metadata": {},
     "output_type": "execute_result"
    }
   ],
   "source": [
    "sent"
   ]
  },
  {
   "cell_type": "code",
   "execution_count": 40,
   "id": "112f963d",
   "metadata": {},
   "outputs": [],
   "source": [
    "#stemming dont give word a menaing where lemmetizing gives meaning to the word"
   ]
  },
  {
   "cell_type": "code",
   "execution_count": 41,
   "id": "3f219d4b",
   "metadata": {},
   "outputs": [],
   "source": [
    "import re"
   ]
  },
  {
   "cell_type": "code",
   "execution_count": 42,
   "id": "7feabada",
   "metadata": {},
   "outputs": [],
   "source": [
    "#applying bag of words..."
   ]
  },
  {
   "cell_type": "code",
   "execution_count": 43,
   "id": "697c8c48",
   "metadata": {},
   "outputs": [],
   "source": [
    "#bag of words will give or represent document in the no system.."
   ]
  },
  {
   "cell_type": "code",
   "execution_count": 45,
   "id": "2f666520",
   "metadata": {},
   "outputs": [],
   "source": [
    "corpus=[]\n",
    "for i in range(len(sent)):\n",
    "    review=re.sub('[^a-zA-Z]',\" \",sent[i])\n",
    "    review=review.lower()\n",
    "    review=review.split()\n",
    "    review=[stemmer.stem(word) for word in review if word not in set(stopwords.words('english'))]\n",
    "    review=' '.join(review)\n",
    "    corpus.append(review)"
   ]
  },
  {
   "cell_type": "code",
   "execution_count": 46,
   "id": "afc0212a",
   "metadata": {},
   "outputs": [
    {
     "data": {
      "text/plain": [
       "['three vision india year histori peopl world come invad u captur land conquer mind alexand onward greek turk mogul portugues british french dutch came loot u took yet done nation conquer anyon grab land cultur histori tri enforc way life respect freedom other first vision freedom believ india got first vision start war independ freedom must protect nurtur build free one respect u second vision india develop fifti year develop nation time see develop nation among top nation world term gdp percent growth rate area poverti level fall achiev global recogn today yet lack self confid see develop nation self reliant self assur incorrect third vision india must stand world believ unless india stand world one respect u strength respect strength must strong militari power also econom power must go hand hand good fortun work three great mind dr vikram sarabhai dept space professor satish dhawan succeed dr brahm prakash father nuclear materi lucki work three close consid great opportun life',\n",
       " 'three vision india year histori peopl world come invad u captur land conquer mind alexand onward greek turk mogul portugues british french dutch came loot u took yet done nation conquer anyon grab land cultur histori tri enforc way life respect freedom other first vision freedom believ india got first vision start war independ freedom must protect nurtur build free one respect u second vision india develop fifti year develop nation time see develop nation among top nation world term gdp percent growth rate area poverti level fall achiev global recogn today yet lack self confid see develop nation self reliant self assur incorrect third vision india must stand world believ unless india stand world one respect u strength respect strength must strong militari power also econom power must go hand hand good fortun work three great mind dr vikram sarabhai dept space professor satish dhawan succeed dr brahm prakash father nuclear materi lucki work three close consid great opportun life',\n",
       " 'three vision india year histori peopl world come invad u captur land conquer mind alexand onward greek turk mogul portugues british french dutch came loot u took yet done nation conquer anyon grab land cultur histori tri enforc way life respect freedom other first vision freedom believ india got first vision start war independ freedom must protect nurtur build free one respect u second vision india develop fifti year develop nation time see develop nation among top nation world term gdp percent growth rate area poverti level fall achiev global recogn today yet lack self confid see develop nation self reliant self assur incorrect third vision india must stand world believ unless india stand world one respect u strength respect strength must strong militari power also econom power must go hand hand good fortun work three great mind dr vikram sarabhai dept space professor satish dhawan succeed dr brahm prakash father nuclear materi lucki work three close consid great opportun life',\n",
       " 'three vision india year histori peopl world come invad u captur land conquer mind alexand onward greek turk mogul portugues british french dutch came loot u took yet done nation conquer anyon grab land cultur histori tri enforc way life respect freedom other first vision freedom believ india got first vision start war independ freedom must protect nurtur build free one respect u second vision india develop fifti year develop nation time see develop nation among top nation world term gdp percent growth rate area poverti level fall achiev global recogn today yet lack self confid see develop nation self reliant self assur incorrect third vision india must stand world believ unless india stand world one respect u strength respect strength must strong militari power also econom power must go hand hand good fortun work three great mind dr vikram sarabhai dept space professor satish dhawan succeed dr brahm prakash father nuclear materi lucki work three close consid great opportun life',\n",
       " 'three vision india year histori peopl world come invad u captur land conquer mind alexand onward greek turk mogul portugues british french dutch came loot u took yet done nation conquer anyon grab land cultur histori tri enforc way life respect freedom other first vision freedom believ india got first vision start war independ freedom must protect nurtur build free one respect u second vision india develop fifti year develop nation time see develop nation among top nation world term gdp percent growth rate area poverti level fall achiev global recogn today yet lack self confid see develop nation self reliant self assur incorrect third vision india must stand world believ unless india stand world one respect u strength respect strength must strong militari power also econom power must go hand hand good fortun work three great mind dr vikram sarabhai dept space professor satish dhawan succeed dr brahm prakash father nuclear materi lucki work three close consid great opportun life',\n",
       " 'three vision india year histori peopl world come invad u captur land conquer mind alexand onward greek turk mogul portugues british french dutch came loot u took yet done nation conquer anyon grab land cultur histori tri enforc way life respect freedom other first vision freedom believ india got first vision start war independ freedom must protect nurtur build free one respect u second vision india develop fifti year develop nation time see develop nation among top nation world term gdp percent growth rate area poverti level fall achiev global recogn today yet lack self confid see develop nation self reliant self assur incorrect third vision india must stand world believ unless india stand world one respect u strength respect strength must strong militari power also econom power must go hand hand good fortun work three great mind dr vikram sarabhai dept space professor satish dhawan succeed dr brahm prakash father nuclear materi lucki work three close consid great opportun life',\n",
       " 'three vision india year histori peopl world come invad u captur land conquer mind alexand onward greek turk mogul portugues british french dutch came loot u took yet done nation conquer anyon grab land cultur histori tri enforc way life respect freedom other first vision freedom believ india got first vision start war independ freedom must protect nurtur build free one respect u second vision india develop fifti year develop nation time see develop nation among top nation world term gdp percent growth rate area poverti level fall achiev global recogn today yet lack self confid see develop nation self reliant self assur incorrect third vision india must stand world believ unless india stand world one respect u strength respect strength must strong militari power also econom power must go hand hand good fortun work three great mind dr vikram sarabhai dept space professor satish dhawan succeed dr brahm prakash father nuclear materi lucki work three close consid great opportun life',\n",
       " 'three vision india year histori peopl world come invad u captur land conquer mind alexand onward greek turk mogul portugues british french dutch came loot u took yet done nation conquer anyon grab land cultur histori tri enforc way life respect freedom other first vision freedom believ india got first vision start war independ freedom must protect nurtur build free one respect u second vision india develop fifti year develop nation time see develop nation among top nation world term gdp percent growth rate area poverti level fall achiev global recogn today yet lack self confid see develop nation self reliant self assur incorrect third vision india must stand world believ unless india stand world one respect u strength respect strength must strong militari power also econom power must go hand hand good fortun work three great mind dr vikram sarabhai dept space professor satish dhawan succeed dr brahm prakash father nuclear materi lucki work three close consid great opportun life',\n",
       " 'three vision india year histori peopl world come invad u captur land conquer mind alexand onward greek turk mogul portugues british french dutch came loot u took yet done nation conquer anyon grab land cultur histori tri enforc way life respect freedom other first vision freedom believ india got first vision start war independ freedom must protect nurtur build free one respect u second vision india develop fifti year develop nation time see develop nation among top nation world term gdp percent growth rate area poverti level fall achiev global recogn today yet lack self confid see develop nation self reliant self assur incorrect third vision india must stand world believ unless india stand world one respect u strength respect strength must strong militari power also econom power must go hand hand good fortun work three great mind dr vikram sarabhai dept space professor satish dhawan succeed dr brahm prakash father nuclear materi lucki work three close consid great opportun life',\n",
       " 'three vision india year histori peopl world come invad u captur land conquer mind alexand onward greek turk mogul portugues british french dutch came loot u took yet done nation conquer anyon grab land cultur histori tri enforc way life respect freedom other first vision freedom believ india got first vision start war independ freedom must protect nurtur build free one respect u second vision india develop fifti year develop nation time see develop nation among top nation world term gdp percent growth rate area poverti level fall achiev global recogn today yet lack self confid see develop nation self reliant self assur incorrect third vision india must stand world believ unless india stand world one respect u strength respect strength must strong militari power also econom power must go hand hand good fortun work three great mind dr vikram sarabhai dept space professor satish dhawan succeed dr brahm prakash father nuclear materi lucki work three close consid great opportun life',\n",
       " 'three vision india year histori peopl world come invad u captur land conquer mind alexand onward greek turk mogul portugues british french dutch came loot u took yet done nation conquer anyon grab land cultur histori tri enforc way life respect freedom other first vision freedom believ india got first vision start war independ freedom must protect nurtur build free one respect u second vision india develop fifti year develop nation time see develop nation among top nation world term gdp percent growth rate area poverti level fall achiev global recogn today yet lack self confid see develop nation self reliant self assur incorrect third vision india must stand world believ unless india stand world one respect u strength respect strength must strong militari power also econom power must go hand hand good fortun work three great mind dr vikram sarabhai dept space professor satish dhawan succeed dr brahm prakash father nuclear materi lucki work three close consid great opportun life',\n",
       " 'three vision india year histori peopl world come invad u captur land conquer mind alexand onward greek turk mogul portugues british french dutch came loot u took yet done nation conquer anyon grab land cultur histori tri enforc way life respect freedom other first vision freedom believ india got first vision start war independ freedom must protect nurtur build free one respect u second vision india develop fifti year develop nation time see develop nation among top nation world term gdp percent growth rate area poverti level fall achiev global recogn today yet lack self confid see develop nation self reliant self assur incorrect third vision india must stand world believ unless india stand world one respect u strength respect strength must strong militari power also econom power must go hand hand good fortun work three great mind dr vikram sarabhai dept space professor satish dhawan succeed dr brahm prakash father nuclear materi lucki work three close consid great opportun life',\n",
       " 'three vision india year histori peopl world come invad u captur land conquer mind alexand onward greek turk mogul portugues british french dutch came loot u took yet done nation conquer anyon grab land cultur histori tri enforc way life respect freedom other first vision freedom believ india got first vision start war independ freedom must protect nurtur build free one respect u second vision india develop fifti year develop nation time see develop nation among top nation world term gdp percent growth rate area poverti level fall achiev global recogn today yet lack self confid see develop nation self reliant self assur incorrect third vision india must stand world believ unless india stand world one respect u strength respect strength must strong militari power also econom power must go hand hand good fortun work three great mind dr vikram sarabhai dept space professor satish dhawan succeed dr brahm prakash father nuclear materi lucki work three close consid great opportun life',\n",
       " 'three vision india year histori peopl world come invad u captur land conquer mind alexand onward greek turk mogul portugues british french dutch came loot u took yet done nation conquer anyon grab land cultur histori tri enforc way life respect freedom other first vision freedom believ india got first vision start war independ freedom must protect nurtur build free one respect u second vision india develop fifti year develop nation time see develop nation among top nation world term gdp percent growth rate area poverti level fall achiev global recogn today yet lack self confid see develop nation self reliant self assur incorrect third vision india must stand world believ unless india stand world one respect u strength respect strength must strong militari power also econom power must go hand hand good fortun work three great mind dr vikram sarabhai dept space professor satish dhawan succeed dr brahm prakash father nuclear materi lucki work three close consid great opportun life',\n",
       " 'three vision india year histori peopl world come invad u captur land conquer mind alexand onward greek turk mogul portugues british french dutch came loot u took yet done nation conquer anyon grab land cultur histori tri enforc way life respect freedom other first vision freedom believ india got first vision start war independ freedom must protect nurtur build free one respect u second vision india develop fifti year develop nation time see develop nation among top nation world term gdp percent growth rate area poverti level fall achiev global recogn today yet lack self confid see develop nation self reliant self assur incorrect third vision india must stand world believ unless india stand world one respect u strength respect strength must strong militari power also econom power must go hand hand good fortun work three great mind dr vikram sarabhai dept space professor satish dhawan succeed dr brahm prakash father nuclear materi lucki work three close consid great opportun life',\n",
       " 'three vision india year histori peopl world come invad u captur land conquer mind alexand onward greek turk mogul portugues british french dutch came loot u took yet done nation conquer anyon grab land cultur histori tri enforc way life respect freedom other first vision freedom believ india got first vision start war independ freedom must protect nurtur build free one respect u second vision india develop fifti year develop nation time see develop nation among top nation world term gdp percent growth rate area poverti level fall achiev global recogn today yet lack self confid see develop nation self reliant self assur incorrect third vision india must stand world believ unless india stand world one respect u strength respect strength must strong militari power also econom power must go hand hand good fortun work three great mind dr vikram sarabhai dept space professor satish dhawan succeed dr brahm prakash father nuclear materi lucki work three close consid great opportun life',\n",
       " 'three vision india year histori peopl world come invad u captur land conquer mind alexand onward greek turk mogul portugues british french dutch came loot u took yet done nation conquer anyon grab land cultur histori tri enforc way life respect freedom other first vision freedom believ india got first vision start war independ freedom must protect nurtur build free one respect u second vision india develop fifti year develop nation time see develop nation among top nation world term gdp percent growth rate area poverti level fall achiev global recogn today yet lack self confid see develop nation self reliant self assur incorrect third vision india must stand world believ unless india stand world one respect u strength respect strength must strong militari power also econom power must go hand hand good fortun work three great mind dr vikram sarabhai dept space professor satish dhawan succeed dr brahm prakash father nuclear materi lucki work three close consid great opportun life',\n",
       " 'three vision india year histori peopl world come invad u captur land conquer mind alexand onward greek turk mogul portugues british french dutch came loot u took yet done nation conquer anyon grab land cultur histori tri enforc way life respect freedom other first vision freedom believ india got first vision start war independ freedom must protect nurtur build free one respect u second vision india develop fifti year develop nation time see develop nation among top nation world term gdp percent growth rate area poverti level fall achiev global recogn today yet lack self confid see develop nation self reliant self assur incorrect third vision india must stand world believ unless india stand world one respect u strength respect strength must strong militari power also econom power must go hand hand good fortun work three great mind dr vikram sarabhai dept space professor satish dhawan succeed dr brahm prakash father nuclear materi lucki work three close consid great opportun life',\n",
       " 'three vision india year histori peopl world come invad u captur land conquer mind alexand onward greek turk mogul portugues british french dutch came loot u took yet done nation conquer anyon grab land cultur histori tri enforc way life respect freedom other first vision freedom believ india got first vision start war independ freedom must protect nurtur build free one respect u second vision india develop fifti year develop nation time see develop nation among top nation world term gdp percent growth rate area poverti level fall achiev global recogn today yet lack self confid see develop nation self reliant self assur incorrect third vision india must stand world believ unless india stand world one respect u strength respect strength must strong militari power also econom power must go hand hand good fortun work three great mind dr vikram sarabhai dept space professor satish dhawan succeed dr brahm prakash father nuclear materi lucki work three close consid great opportun life',\n",
       " 'three vision india year histori peopl world come invad u captur land conquer mind alexand onward greek turk mogul portugues british french dutch came loot u took yet done nation conquer anyon grab land cultur histori tri enforc way life respect freedom other first vision freedom believ india got first vision start war independ freedom must protect nurtur build free one respect u second vision india develop fifti year develop nation time see develop nation among top nation world term gdp percent growth rate area poverti level fall achiev global recogn today yet lack self confid see develop nation self reliant self assur incorrect third vision india must stand world believ unless india stand world one respect u strength respect strength must strong militari power also econom power must go hand hand good fortun work three great mind dr vikram sarabhai dept space professor satish dhawan succeed dr brahm prakash father nuclear materi lucki work three close consid great opportun life',\n",
       " 'three vision india year histori peopl world come invad u captur land conquer mind alexand onward greek turk mogul portugues british french dutch came loot u took yet done nation conquer anyon grab land cultur histori tri enforc way life respect freedom other first vision freedom believ india got first vision start war independ freedom must protect nurtur build free one respect u second vision india develop fifti year develop nation time see develop nation among top nation world term gdp percent growth rate area poverti level fall achiev global recogn today yet lack self confid see develop nation self reliant self assur incorrect third vision india must stand world believ unless india stand world one respect u strength respect strength must strong militari power also econom power must go hand hand good fortun work three great mind dr vikram sarabhai dept space professor satish dhawan succeed dr brahm prakash father nuclear materi lucki work three close consid great opportun life',\n",
       " 'three vision india year histori peopl world come invad u captur land conquer mind alexand onward greek turk mogul portugues british french dutch came loot u took yet done nation conquer anyon grab land cultur histori tri enforc way life respect freedom other first vision freedom believ india got first vision start war independ freedom must protect nurtur build free one respect u second vision india develop fifti year develop nation time see develop nation among top nation world term gdp percent growth rate area poverti level fall achiev global recogn today yet lack self confid see develop nation self reliant self assur incorrect third vision india must stand world believ unless india stand world one respect u strength respect strength must strong militari power also econom power must go hand hand good fortun work three great mind dr vikram sarabhai dept space professor satish dhawan succeed dr brahm prakash father nuclear materi lucki work three close consid great opportun life',\n",
       " 'three vision india year histori peopl world come invad u captur land conquer mind alexand onward greek turk mogul portugues british french dutch came loot u took yet done nation conquer anyon grab land cultur histori tri enforc way life respect freedom other first vision freedom believ india got first vision start war independ freedom must protect nurtur build free one respect u second vision india develop fifti year develop nation time see develop nation among top nation world term gdp percent growth rate area poverti level fall achiev global recogn today yet lack self confid see develop nation self reliant self assur incorrect third vision india must stand world believ unless india stand world one respect u strength respect strength must strong militari power also econom power must go hand hand good fortun work three great mind dr vikram sarabhai dept space professor satish dhawan succeed dr brahm prakash father nuclear materi lucki work three close consid great opportun life',\n",
       " 'three vision india year histori peopl world come invad u captur land conquer mind alexand onward greek turk mogul portugues british french dutch came loot u took yet done nation conquer anyon grab land cultur histori tri enforc way life respect freedom other first vision freedom believ india got first vision start war independ freedom must protect nurtur build free one respect u second vision india develop fifti year develop nation time see develop nation among top nation world term gdp percent growth rate area poverti level fall achiev global recogn today yet lack self confid see develop nation self reliant self assur incorrect third vision india must stand world believ unless india stand world one respect u strength respect strength must strong militari power also econom power must go hand hand good fortun work three great mind dr vikram sarabhai dept space professor satish dhawan succeed dr brahm prakash father nuclear materi lucki work three close consid great opportun life',\n",
       " 'three vision india year histori peopl world come invad u captur land conquer mind alexand onward greek turk mogul portugues british french dutch came loot u took yet done nation conquer anyon grab land cultur histori tri enforc way life respect freedom other first vision freedom believ india got first vision start war independ freedom must protect nurtur build free one respect u second vision india develop fifti year develop nation time see develop nation among top nation world term gdp percent growth rate area poverti level fall achiev global recogn today yet lack self confid see develop nation self reliant self assur incorrect third vision india must stand world believ unless india stand world one respect u strength respect strength must strong militari power also econom power must go hand hand good fortun work three great mind dr vikram sarabhai dept space professor satish dhawan succeed dr brahm prakash father nuclear materi lucki work three close consid great opportun life',\n",
       " 'three vision india year histori peopl world come invad u captur land conquer mind alexand onward greek turk mogul portugues british french dutch came loot u took yet done nation conquer anyon grab land cultur histori tri enforc way life respect freedom other first vision freedom believ india got first vision start war independ freedom must protect nurtur build free one respect u second vision india develop fifti year develop nation time see develop nation among top nation world term gdp percent growth rate area poverti level fall achiev global recogn today yet lack self confid see develop nation self reliant self assur incorrect third vision india must stand world believ unless india stand world one respect u strength respect strength must strong militari power also econom power must go hand hand good fortun work three great mind dr vikram sarabhai dept space professor satish dhawan succeed dr brahm prakash father nuclear materi lucki work three close consid great opportun life',\n",
       " 'three vision india year histori peopl world come invad u captur land conquer mind alexand onward greek turk mogul portugues british french dutch came loot u took yet done nation conquer anyon grab land cultur histori tri enforc way life respect freedom other first vision freedom believ india got first vision start war independ freedom must protect nurtur build free one respect u second vision india develop fifti year develop nation time see develop nation among top nation world term gdp percent growth rate area poverti level fall achiev global recogn today yet lack self confid see develop nation self reliant self assur incorrect third vision india must stand world believ unless india stand world one respect u strength respect strength must strong militari power also econom power must go hand hand good fortun work three great mind dr vikram sarabhai dept space professor satish dhawan succeed dr brahm prakash father nuclear materi lucki work three close consid great opportun life',\n",
       " 'three vision india year histori peopl world come invad u captur land conquer mind alexand onward greek turk mogul portugues british french dutch came loot u took yet done nation conquer anyon grab land cultur histori tri enforc way life respect freedom other first vision freedom believ india got first vision start war independ freedom must protect nurtur build free one respect u second vision india develop fifti year develop nation time see develop nation among top nation world term gdp percent growth rate area poverti level fall achiev global recogn today yet lack self confid see develop nation self reliant self assur incorrect third vision india must stand world believ unless india stand world one respect u strength respect strength must strong militari power also econom power must go hand hand good fortun work three great mind dr vikram sarabhai dept space professor satish dhawan succeed dr brahm prakash father nuclear materi lucki work three close consid great opportun life',\n",
       " 'three vision india year histori peopl world come invad u captur land conquer mind alexand onward greek turk mogul portugues british french dutch came loot u took yet done nation conquer anyon grab land cultur histori tri enforc way life respect freedom other first vision freedom believ india got first vision start war independ freedom must protect nurtur build free one respect u second vision india develop fifti year develop nation time see develop nation among top nation world term gdp percent growth rate area poverti level fall achiev global recogn today yet lack self confid see develop nation self reliant self assur incorrect third vision india must stand world believ unless india stand world one respect u strength respect strength must strong militari power also econom power must go hand hand good fortun work three great mind dr vikram sarabhai dept space professor satish dhawan succeed dr brahm prakash father nuclear materi lucki work three close consid great opportun life',\n",
       " 'three vision india year histori peopl world come invad u captur land conquer mind alexand onward greek turk mogul portugues british french dutch came loot u took yet done nation conquer anyon grab land cultur histori tri enforc way life respect freedom other first vision freedom believ india got first vision start war independ freedom must protect nurtur build free one respect u second vision india develop fifti year develop nation time see develop nation among top nation world term gdp percent growth rate area poverti level fall achiev global recogn today yet lack self confid see develop nation self reliant self assur incorrect third vision india must stand world believ unless india stand world one respect u strength respect strength must strong militari power also econom power must go hand hand good fortun work three great mind dr vikram sarabhai dept space professor satish dhawan succeed dr brahm prakash father nuclear materi lucki work three close consid great opportun life']"
      ]
     },
     "execution_count": 46,
     "metadata": {},
     "output_type": "execute_result"
    }
   ],
   "source": [
    "corpus"
   ]
  },
  {
   "cell_type": "code",
   "execution_count": 47,
   "id": "230fb782",
   "metadata": {},
   "outputs": [],
   "source": [
    "#now applying bag of words to it"
   ]
  },
  {
   "cell_type": "code",
   "execution_count": 48,
   "id": "57b6acac",
   "metadata": {},
   "outputs": [],
   "source": [
    "#for bag of word we need countvectorizer()"
   ]
  },
  {
   "cell_type": "code",
   "execution_count": 49,
   "id": "bf98fe5b",
   "metadata": {},
   "outputs": [],
   "source": [
    "from sklearn.feature_extraction.text import CountVectorizer"
   ]
  },
  {
   "cell_type": "code",
   "execution_count": 50,
   "id": "df6629a8",
   "metadata": {},
   "outputs": [],
   "source": [
    "cv=CountVectorizer()"
   ]
  },
  {
   "cell_type": "code",
   "execution_count": 51,
   "id": "c1f5e9c4",
   "metadata": {},
   "outputs": [],
   "source": [
    "x=cv.fit_transform(corpus).toarray()"
   ]
  },
  {
   "cell_type": "code",
   "execution_count": 52,
   "id": "df445d74",
   "metadata": {},
   "outputs": [
    {
     "data": {
      "text/plain": [
       "array([[1, 1, 1, ..., 4, 2, 2],\n",
       "       [1, 1, 1, ..., 4, 2, 2],\n",
       "       [1, 1, 1, ..., 4, 2, 2],\n",
       "       ...,\n",
       "       [1, 1, 1, ..., 4, 2, 2],\n",
       "       [1, 1, 1, ..., 4, 2, 2],\n",
       "       [1, 1, 1, ..., 4, 2, 2]], dtype=int64)"
      ]
     },
     "execution_count": 52,
     "metadata": {},
     "output_type": "execute_result"
    }
   ],
   "source": [
    "x"
   ]
  },
  {
   "cell_type": "code",
   "execution_count": 53,
   "id": "4bc09214",
   "metadata": {},
   "outputs": [],
   "source": [
    "#tfidf will do same but in better way  it will guve importanbce to certain words that seems important..."
   ]
  },
  {
   "cell_type": "code",
   "execution_count": 54,
   "id": "d84b4d02",
   "metadata": {},
   "outputs": [],
   "source": [
    "from sklearn.feature_extraction.text import TfidfVectorizer"
   ]
  },
  {
   "cell_type": "code",
   "execution_count": 55,
   "id": "7d3bc397",
   "metadata": {},
   "outputs": [],
   "source": [
    "tf=TfidfVectorizer()"
   ]
  },
  {
   "cell_type": "code",
   "execution_count": 56,
   "id": "6513df4c",
   "metadata": {},
   "outputs": [
    {
     "data": {
      "text/plain": [
       "array([[0.05598925, 0.05598925, 0.05598925, ..., 0.223957  , 0.1119785 ,\n",
       "        0.1119785 ],\n",
       "       [0.05598925, 0.05598925, 0.05598925, ..., 0.223957  , 0.1119785 ,\n",
       "        0.1119785 ],\n",
       "       [0.05598925, 0.05598925, 0.05598925, ..., 0.223957  , 0.1119785 ,\n",
       "        0.1119785 ],\n",
       "       ...,\n",
       "       [0.05598925, 0.05598925, 0.05598925, ..., 0.223957  , 0.1119785 ,\n",
       "        0.1119785 ],\n",
       "       [0.05598925, 0.05598925, 0.05598925, ..., 0.223957  , 0.1119785 ,\n",
       "        0.1119785 ],\n",
       "       [0.05598925, 0.05598925, 0.05598925, ..., 0.223957  , 0.1119785 ,\n",
       "        0.1119785 ]])"
      ]
     },
     "execution_count": 56,
     "metadata": {},
     "output_type": "execute_result"
    }
   ],
   "source": [
    "tf.fit_transform(corpus).toarray()"
   ]
  },
  {
   "cell_type": "code",
   "execution_count": null,
   "id": "55197f3d",
   "metadata": {},
   "outputs": [],
   "source": []
  }
 ],
 "metadata": {
  "kernelspec": {
   "display_name": "Python 3 (ipykernel)",
   "language": "python",
   "name": "python3"
  },
  "language_info": {
   "codemirror_mode": {
    "name": "ipython",
    "version": 3
   },
   "file_extension": ".py",
   "mimetype": "text/x-python",
   "name": "python",
   "nbconvert_exporter": "python",
   "pygments_lexer": "ipython3",
   "version": "3.9.13"
  }
 },
 "nbformat": 4,
 "nbformat_minor": 5
}
